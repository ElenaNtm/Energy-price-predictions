{
  "nbformat": 4,
  "nbformat_minor": 0,
  "metadata": {
    "colab": {
      "provenance": [],
      "authorship_tag": "ABX9TyMhlZRmYnZSoPcNlH8qUFdm",
      "include_colab_link": true
    },
    "kernelspec": {
      "name": "python3",
      "display_name": "Python 3"
    },
    "language_info": {
      "name": "python"
    }
  },
  "cells": [
    {
      "cell_type": "markdown",
      "metadata": {
        "id": "view-in-github",
        "colab_type": "text"
      },
      "source": [
        "<a href=\"https://colab.research.google.com/github/ElenaNtm/Energy-price-predictions/blob/main/update_initial_file_HENEX(2).ipynb\" target=\"_parent\"><img src=\"https://colab.research.google.com/assets/colab-badge.svg\" alt=\"Open In Colab\"/></a>"
      ]
    },
    {
      "cell_type": "markdown",
      "source": [
        "Page: https://www.enexgroup.gr/el/web/guest/official-lists?p_p_id=com_liferay_asset_publisher_web_portlet_AssetPublisherPortlet_INSTANCE_v2cho0fcNMrv&p_p_lifecycle=0&p_p_state=normal&p_p_mode=view&_com_liferay_asset_publisher_web_portlet_AssetPublisherPortlet_INSTANCE_v2cho0fcNMrv_delta=12&p_r_p_resetCur=false&_com_liferay_asset_publisher_web_portlet_AssetPublisherPortlet_INSTANCE_v2cho0fcNMrv_cur=3"
      ],
      "metadata": {
        "id": "Qa7uGOX5tJ-b"
      }
    },
    {
      "cell_type": "markdown",
      "source": [
        "#Libraries"
      ],
      "metadata": {
        "id": "DwUr-f-031ow"
      }
    },
    {
      "cell_type": "code",
      "source": [
        "from google.colab import drive\n",
        "drive.mount('/content/drive')"
      ],
      "metadata": {
        "colab": {
          "base_uri": "https://localhost:8080/"
        },
        "id": "uVad1kftrj4d",
        "outputId": "a7b33b8d-4664-4a12-e519-fa7c94733fec"
      },
      "execution_count": 1,
      "outputs": [
        {
          "output_type": "stream",
          "name": "stdout",
          "text": [
            "Drive already mounted at /content/drive; to attempt to forcibly remount, call drive.mount(\"/content/drive\", force_remount=True).\n"
          ]
        }
      ]
    },
    {
      "cell_type": "code",
      "source": [
        "import pandas as pd"
      ],
      "metadata": {
        "id": "H_lNyZYgvY5N"
      },
      "execution_count": 23,
      "outputs": []
    },
    {
      "cell_type": "code",
      "source": [
        "import requests\n",
        "from datetime import datetime, timedelta"
      ],
      "metadata": {
        "id": "dwxeNrnf5XNm"
      },
      "execution_count": 29,
      "outputs": []
    },
    {
      "cell_type": "markdown",
      "source": [
        "#Import old dataframe to enrich it"
      ],
      "metadata": {
        "id": "mZm6L5VyeQl3"
      }
    },
    {
      "cell_type": "code",
      "source": [
        "path = \"/content/drive/MyDrive/base_exchange_data_HENEX.csv\"\n",
        "df = pd.read_csv(path)"
      ],
      "metadata": {
        "id": "xCIzyqcTePlg"
      },
      "execution_count": 24,
      "outputs": []
    },
    {
      "cell_type": "code",
      "source": [
        "df.head()"
      ],
      "metadata": {
        "colab": {
          "base_uri": "https://localhost:8080/",
          "height": 372
        },
        "id": "LFg069xgefJv",
        "outputId": "7e8e5b9b-1e13-4be0-c2b5-fb7bf694f5a7"
      },
      "execution_count": 25,
      "outputs": [
        {
          "output_type": "execute_result",
          "data": {
            "text/plain": [
              "   Unnamed: 0   Trade Day Instrument   Number of Orders  Max Price of Orders   \\\n",
              "0           0  2022-09-01   GREBM0922               NaN                   NaN   \n",
              "1           1  2022-09-01   GREBM1022               2.0                 545.0   \n",
              "2           2  2022-09-01   GREBM1122               2.0                 665.5   \n",
              "3           3  2022-09-01    GREBQ422               6.0                 640.0   \n",
              "4           4  2022-09-01     GREBY23              14.0                 549.0   \n",
              "\n",
              "   Min Price of Orders   Average Price of Orders   Number of Quotes   \\\n",
              "0                   NaN                       NaN                NaN   \n",
              "1                 542.0                543.500000                1.0   \n",
              "2                 661.5                663.500000                1.0   \n",
              "3                 632.0                636.166667                3.0   \n",
              "4                 520.0                535.785714                7.0   \n",
              "\n",
              "   Number of Trades  Average Price of Trades  Total Quantity of Trades   \\\n",
              "0               NaN                      NaN                        NaN   \n",
              "1               NaN                      NaN                        NaN   \n",
              "2               NaN                      NaN                        NaN   \n",
              "3               NaN                      NaN                        NaN   \n",
              "4               NaN                      NaN                        NaN   \n",
              "\n",
              "   Start Prices   Fixing Prices   Open Interest   \n",
              "0         605.13          605.13            14.0  \n",
              "1         593.50          543.50             NaN  \n",
              "2         713.50          663.50             NaN  \n",
              "3         671.50          636.50             1.0  \n",
              "4         577.50          522.50             NaN  "
            ],
            "text/html": [
              "\n",
              "  <div id=\"df-d95481d5-8848-4695-8ad5-26971b3d8f89\">\n",
              "    <div class=\"colab-df-container\">\n",
              "      <div>\n",
              "<style scoped>\n",
              "    .dataframe tbody tr th:only-of-type {\n",
              "        vertical-align: middle;\n",
              "    }\n",
              "\n",
              "    .dataframe tbody tr th {\n",
              "        vertical-align: top;\n",
              "    }\n",
              "\n",
              "    .dataframe thead th {\n",
              "        text-align: right;\n",
              "    }\n",
              "</style>\n",
              "<table border=\"1\" class=\"dataframe\">\n",
              "  <thead>\n",
              "    <tr style=\"text-align: right;\">\n",
              "      <th></th>\n",
              "      <th>Unnamed: 0</th>\n",
              "      <th>Trade Day</th>\n",
              "      <th>Instrument</th>\n",
              "      <th>Number of Orders</th>\n",
              "      <th>Max Price of Orders</th>\n",
              "      <th>Min Price of Orders</th>\n",
              "      <th>Average Price of Orders</th>\n",
              "      <th>Number of Quotes</th>\n",
              "      <th>Number of Trades</th>\n",
              "      <th>Average Price of Trades</th>\n",
              "      <th>Total Quantity of Trades</th>\n",
              "      <th>Start Prices</th>\n",
              "      <th>Fixing Prices</th>\n",
              "      <th>Open Interest</th>\n",
              "    </tr>\n",
              "  </thead>\n",
              "  <tbody>\n",
              "    <tr>\n",
              "      <th>0</th>\n",
              "      <td>0</td>\n",
              "      <td>2022-09-01</td>\n",
              "      <td>GREBM0922</td>\n",
              "      <td>NaN</td>\n",
              "      <td>NaN</td>\n",
              "      <td>NaN</td>\n",
              "      <td>NaN</td>\n",
              "      <td>NaN</td>\n",
              "      <td>NaN</td>\n",
              "      <td>NaN</td>\n",
              "      <td>NaN</td>\n",
              "      <td>605.13</td>\n",
              "      <td>605.13</td>\n",
              "      <td>14.0</td>\n",
              "    </tr>\n",
              "    <tr>\n",
              "      <th>1</th>\n",
              "      <td>1</td>\n",
              "      <td>2022-09-01</td>\n",
              "      <td>GREBM1022</td>\n",
              "      <td>2.0</td>\n",
              "      <td>545.0</td>\n",
              "      <td>542.0</td>\n",
              "      <td>543.500000</td>\n",
              "      <td>1.0</td>\n",
              "      <td>NaN</td>\n",
              "      <td>NaN</td>\n",
              "      <td>NaN</td>\n",
              "      <td>593.50</td>\n",
              "      <td>543.50</td>\n",
              "      <td>NaN</td>\n",
              "    </tr>\n",
              "    <tr>\n",
              "      <th>2</th>\n",
              "      <td>2</td>\n",
              "      <td>2022-09-01</td>\n",
              "      <td>GREBM1122</td>\n",
              "      <td>2.0</td>\n",
              "      <td>665.5</td>\n",
              "      <td>661.5</td>\n",
              "      <td>663.500000</td>\n",
              "      <td>1.0</td>\n",
              "      <td>NaN</td>\n",
              "      <td>NaN</td>\n",
              "      <td>NaN</td>\n",
              "      <td>713.50</td>\n",
              "      <td>663.50</td>\n",
              "      <td>NaN</td>\n",
              "    </tr>\n",
              "    <tr>\n",
              "      <th>3</th>\n",
              "      <td>3</td>\n",
              "      <td>2022-09-01</td>\n",
              "      <td>GREBQ422</td>\n",
              "      <td>6.0</td>\n",
              "      <td>640.0</td>\n",
              "      <td>632.0</td>\n",
              "      <td>636.166667</td>\n",
              "      <td>3.0</td>\n",
              "      <td>NaN</td>\n",
              "      <td>NaN</td>\n",
              "      <td>NaN</td>\n",
              "      <td>671.50</td>\n",
              "      <td>636.50</td>\n",
              "      <td>1.0</td>\n",
              "    </tr>\n",
              "    <tr>\n",
              "      <th>4</th>\n",
              "      <td>4</td>\n",
              "      <td>2022-09-01</td>\n",
              "      <td>GREBY23</td>\n",
              "      <td>14.0</td>\n",
              "      <td>549.0</td>\n",
              "      <td>520.0</td>\n",
              "      <td>535.785714</td>\n",
              "      <td>7.0</td>\n",
              "      <td>NaN</td>\n",
              "      <td>NaN</td>\n",
              "      <td>NaN</td>\n",
              "      <td>577.50</td>\n",
              "      <td>522.50</td>\n",
              "      <td>NaN</td>\n",
              "    </tr>\n",
              "  </tbody>\n",
              "</table>\n",
              "</div>\n",
              "      <button class=\"colab-df-convert\" onclick=\"convertToInteractive('df-d95481d5-8848-4695-8ad5-26971b3d8f89')\"\n",
              "              title=\"Convert this dataframe to an interactive table.\"\n",
              "              style=\"display:none;\">\n",
              "        \n",
              "  <svg xmlns=\"http://www.w3.org/2000/svg\" height=\"24px\"viewBox=\"0 0 24 24\"\n",
              "       width=\"24px\">\n",
              "    <path d=\"M0 0h24v24H0V0z\" fill=\"none\"/>\n",
              "    <path d=\"M18.56 5.44l.94 2.06.94-2.06 2.06-.94-2.06-.94-.94-2.06-.94 2.06-2.06.94zm-11 1L8.5 8.5l.94-2.06 2.06-.94-2.06-.94L8.5 2.5l-.94 2.06-2.06.94zm10 10l.94 2.06.94-2.06 2.06-.94-2.06-.94-.94-2.06-.94 2.06-2.06.94z\"/><path d=\"M17.41 7.96l-1.37-1.37c-.4-.4-.92-.59-1.43-.59-.52 0-1.04.2-1.43.59L10.3 9.45l-7.72 7.72c-.78.78-.78 2.05 0 2.83L4 21.41c.39.39.9.59 1.41.59.51 0 1.02-.2 1.41-.59l7.78-7.78 2.81-2.81c.8-.78.8-2.07 0-2.86zM5.41 20L4 18.59l7.72-7.72 1.47 1.35L5.41 20z\"/>\n",
              "  </svg>\n",
              "      </button>\n",
              "      \n",
              "  <style>\n",
              "    .colab-df-container {\n",
              "      display:flex;\n",
              "      flex-wrap:wrap;\n",
              "      gap: 12px;\n",
              "    }\n",
              "\n",
              "    .colab-df-convert {\n",
              "      background-color: #E8F0FE;\n",
              "      border: none;\n",
              "      border-radius: 50%;\n",
              "      cursor: pointer;\n",
              "      display: none;\n",
              "      fill: #1967D2;\n",
              "      height: 32px;\n",
              "      padding: 0 0 0 0;\n",
              "      width: 32px;\n",
              "    }\n",
              "\n",
              "    .colab-df-convert:hover {\n",
              "      background-color: #E2EBFA;\n",
              "      box-shadow: 0px 1px 2px rgba(60, 64, 67, 0.3), 0px 1px 3px 1px rgba(60, 64, 67, 0.15);\n",
              "      fill: #174EA6;\n",
              "    }\n",
              "\n",
              "    [theme=dark] .colab-df-convert {\n",
              "      background-color: #3B4455;\n",
              "      fill: #D2E3FC;\n",
              "    }\n",
              "\n",
              "    [theme=dark] .colab-df-convert:hover {\n",
              "      background-color: #434B5C;\n",
              "      box-shadow: 0px 1px 3px 1px rgba(0, 0, 0, 0.15);\n",
              "      filter: drop-shadow(0px 1px 2px rgba(0, 0, 0, 0.3));\n",
              "      fill: #FFFFFF;\n",
              "    }\n",
              "  </style>\n",
              "\n",
              "      <script>\n",
              "        const buttonEl =\n",
              "          document.querySelector('#df-d95481d5-8848-4695-8ad5-26971b3d8f89 button.colab-df-convert');\n",
              "        buttonEl.style.display =\n",
              "          google.colab.kernel.accessAllowed ? 'block' : 'none';\n",
              "\n",
              "        async function convertToInteractive(key) {\n",
              "          const element = document.querySelector('#df-d95481d5-8848-4695-8ad5-26971b3d8f89');\n",
              "          const dataTable =\n",
              "            await google.colab.kernel.invokeFunction('convertToInteractive',\n",
              "                                                     [key], {});\n",
              "          if (!dataTable) return;\n",
              "\n",
              "          const docLinkHtml = 'Like what you see? Visit the ' +\n",
              "            '<a target=\"_blank\" href=https://colab.research.google.com/notebooks/data_table.ipynb>data table notebook</a>'\n",
              "            + ' to learn more about interactive tables.';\n",
              "          element.innerHTML = '';\n",
              "          dataTable['output_type'] = 'display_data';\n",
              "          await google.colab.output.renderOutput(dataTable, element);\n",
              "          const docLink = document.createElement('div');\n",
              "          docLink.innerHTML = docLinkHtml;\n",
              "          element.appendChild(docLink);\n",
              "        }\n",
              "      </script>\n",
              "    </div>\n",
              "  </div>\n",
              "  "
            ]
          },
          "metadata": {},
          "execution_count": 25
        }
      ]
    },
    {
      "cell_type": "markdown",
      "source": [
        "##Drop the column Unnamed: 0, it was created automatically when saving the initial file with no indexes"
      ],
      "metadata": {
        "id": "Yn_Lxykm4FjI"
      }
    },
    {
      "cell_type": "code",
      "source": [
        "df.drop('Unnamed: 0', axis = 1, inplace = True)"
      ],
      "metadata": {
        "id": "08M6p08R4Tsz"
      },
      "execution_count": 26,
      "outputs": []
    },
    {
      "cell_type": "markdown",
      "source": [
        "#Import new data manualy to concat to the old dataframe"
      ],
      "metadata": {
        "id": "d5kVE48IehWi"
      }
    },
    {
      "cell_type": "code",
      "source": [
        "# Provide the path to the XLSX file from page- right click on link and copy link address\n",
        "xlsx_path = 'https://www.enexgroup.gr/el/c/document_library/get_file?uuid=a2f3fd27-5b95-8d41-d981-b0a4d2535222&groupId=20126'\n",
        "\n",
        "# Read the XLSX file into a pandas DataFrame\n",
        "df1 = pd.read_excel(xlsx_path, sheet_name = 'DOL_Derivatives')\n",
        "#df1 = df1.set_index(['Trade Day','Instrument '])\n",
        "df1.head()"
      ],
      "metadata": {
        "id": "yin3zEYivgin",
        "colab": {
          "base_uri": "https://localhost:8080/",
          "height": 372
        },
        "outputId": "0a777679-f499-438f-901d-3e113719c6fe"
      },
      "execution_count": 27,
      "outputs": [
        {
          "output_type": "execute_result",
          "data": {
            "text/plain": [
              "   Trade Day Instrument   Number of Orders  Max Price of Orders   \\\n",
              "0 2023-06-30   GREBM0723               NaN                   NaN   \n",
              "1 2023-06-30   GREBM0823               5.0                 118.0   \n",
              "2 2023-06-30   GREBM0923               8.0                 124.0   \n",
              "3 2023-06-30    GREBQ124               1.0                 161.0   \n",
              "4 2023-06-30    GREBQ224               1.0                 133.0   \n",
              "\n",
              "   Min Price of Orders   Average Price of Orders   Number of Quotes   \\\n",
              "0                   NaN                       NaN                NaN   \n",
              "1                 115.0                   116.300                1.0   \n",
              "2                 118.0                   121.125                4.0   \n",
              "3                 161.0                   161.000                NaN   \n",
              "4                 133.0                   133.000                NaN   \n",
              "\n",
              "   Number of Trades  Average Price of Trades (VWAP)  \\\n",
              "0               NaN                             NaN   \n",
              "1               NaN                             NaN   \n",
              "2               NaN                             NaN   \n",
              "3               NaN                             NaN   \n",
              "4               NaN                             NaN   \n",
              "\n",
              "   Total Quantity of Trades   Start Prices   Fixing Prices   Open Interest   \n",
              "0                        NaN         109.50          109.50            14.0  \n",
              "1                        NaN         113.50          116.50             9.0  \n",
              "2                        NaN         106.75          106.75             5.0  \n",
              "3                        NaN         156.00          156.00             NaN  \n",
              "4                        NaN         157.50          157.50             NaN  "
            ],
            "text/html": [
              "\n",
              "  <div id=\"df-c927ca69-91c0-41fe-87fe-8399fc559e17\">\n",
              "    <div class=\"colab-df-container\">\n",
              "      <div>\n",
              "<style scoped>\n",
              "    .dataframe tbody tr th:only-of-type {\n",
              "        vertical-align: middle;\n",
              "    }\n",
              "\n",
              "    .dataframe tbody tr th {\n",
              "        vertical-align: top;\n",
              "    }\n",
              "\n",
              "    .dataframe thead th {\n",
              "        text-align: right;\n",
              "    }\n",
              "</style>\n",
              "<table border=\"1\" class=\"dataframe\">\n",
              "  <thead>\n",
              "    <tr style=\"text-align: right;\">\n",
              "      <th></th>\n",
              "      <th>Trade Day</th>\n",
              "      <th>Instrument</th>\n",
              "      <th>Number of Orders</th>\n",
              "      <th>Max Price of Orders</th>\n",
              "      <th>Min Price of Orders</th>\n",
              "      <th>Average Price of Orders</th>\n",
              "      <th>Number of Quotes</th>\n",
              "      <th>Number of Trades</th>\n",
              "      <th>Average Price of Trades (VWAP)</th>\n",
              "      <th>Total Quantity of Trades</th>\n",
              "      <th>Start Prices</th>\n",
              "      <th>Fixing Prices</th>\n",
              "      <th>Open Interest</th>\n",
              "    </tr>\n",
              "  </thead>\n",
              "  <tbody>\n",
              "    <tr>\n",
              "      <th>0</th>\n",
              "      <td>2023-06-30</td>\n",
              "      <td>GREBM0723</td>\n",
              "      <td>NaN</td>\n",
              "      <td>NaN</td>\n",
              "      <td>NaN</td>\n",
              "      <td>NaN</td>\n",
              "      <td>NaN</td>\n",
              "      <td>NaN</td>\n",
              "      <td>NaN</td>\n",
              "      <td>NaN</td>\n",
              "      <td>109.50</td>\n",
              "      <td>109.50</td>\n",
              "      <td>14.0</td>\n",
              "    </tr>\n",
              "    <tr>\n",
              "      <th>1</th>\n",
              "      <td>2023-06-30</td>\n",
              "      <td>GREBM0823</td>\n",
              "      <td>5.0</td>\n",
              "      <td>118.0</td>\n",
              "      <td>115.0</td>\n",
              "      <td>116.300</td>\n",
              "      <td>1.0</td>\n",
              "      <td>NaN</td>\n",
              "      <td>NaN</td>\n",
              "      <td>NaN</td>\n",
              "      <td>113.50</td>\n",
              "      <td>116.50</td>\n",
              "      <td>9.0</td>\n",
              "    </tr>\n",
              "    <tr>\n",
              "      <th>2</th>\n",
              "      <td>2023-06-30</td>\n",
              "      <td>GREBM0923</td>\n",
              "      <td>8.0</td>\n",
              "      <td>124.0</td>\n",
              "      <td>118.0</td>\n",
              "      <td>121.125</td>\n",
              "      <td>4.0</td>\n",
              "      <td>NaN</td>\n",
              "      <td>NaN</td>\n",
              "      <td>NaN</td>\n",
              "      <td>106.75</td>\n",
              "      <td>106.75</td>\n",
              "      <td>5.0</td>\n",
              "    </tr>\n",
              "    <tr>\n",
              "      <th>3</th>\n",
              "      <td>2023-06-30</td>\n",
              "      <td>GREBQ124</td>\n",
              "      <td>1.0</td>\n",
              "      <td>161.0</td>\n",
              "      <td>161.0</td>\n",
              "      <td>161.000</td>\n",
              "      <td>NaN</td>\n",
              "      <td>NaN</td>\n",
              "      <td>NaN</td>\n",
              "      <td>NaN</td>\n",
              "      <td>156.00</td>\n",
              "      <td>156.00</td>\n",
              "      <td>NaN</td>\n",
              "    </tr>\n",
              "    <tr>\n",
              "      <th>4</th>\n",
              "      <td>2023-06-30</td>\n",
              "      <td>GREBQ224</td>\n",
              "      <td>1.0</td>\n",
              "      <td>133.0</td>\n",
              "      <td>133.0</td>\n",
              "      <td>133.000</td>\n",
              "      <td>NaN</td>\n",
              "      <td>NaN</td>\n",
              "      <td>NaN</td>\n",
              "      <td>NaN</td>\n",
              "      <td>157.50</td>\n",
              "      <td>157.50</td>\n",
              "      <td>NaN</td>\n",
              "    </tr>\n",
              "  </tbody>\n",
              "</table>\n",
              "</div>\n",
              "      <button class=\"colab-df-convert\" onclick=\"convertToInteractive('df-c927ca69-91c0-41fe-87fe-8399fc559e17')\"\n",
              "              title=\"Convert this dataframe to an interactive table.\"\n",
              "              style=\"display:none;\">\n",
              "        \n",
              "  <svg xmlns=\"http://www.w3.org/2000/svg\" height=\"24px\"viewBox=\"0 0 24 24\"\n",
              "       width=\"24px\">\n",
              "    <path d=\"M0 0h24v24H0V0z\" fill=\"none\"/>\n",
              "    <path d=\"M18.56 5.44l.94 2.06.94-2.06 2.06-.94-2.06-.94-.94-2.06-.94 2.06-2.06.94zm-11 1L8.5 8.5l.94-2.06 2.06-.94-2.06-.94L8.5 2.5l-.94 2.06-2.06.94zm10 10l.94 2.06.94-2.06 2.06-.94-2.06-.94-.94-2.06-.94 2.06-2.06.94z\"/><path d=\"M17.41 7.96l-1.37-1.37c-.4-.4-.92-.59-1.43-.59-.52 0-1.04.2-1.43.59L10.3 9.45l-7.72 7.72c-.78.78-.78 2.05 0 2.83L4 21.41c.39.39.9.59 1.41.59.51 0 1.02-.2 1.41-.59l7.78-7.78 2.81-2.81c.8-.78.8-2.07 0-2.86zM5.41 20L4 18.59l7.72-7.72 1.47 1.35L5.41 20z\"/>\n",
              "  </svg>\n",
              "      </button>\n",
              "      \n",
              "  <style>\n",
              "    .colab-df-container {\n",
              "      display:flex;\n",
              "      flex-wrap:wrap;\n",
              "      gap: 12px;\n",
              "    }\n",
              "\n",
              "    .colab-df-convert {\n",
              "      background-color: #E8F0FE;\n",
              "      border: none;\n",
              "      border-radius: 50%;\n",
              "      cursor: pointer;\n",
              "      display: none;\n",
              "      fill: #1967D2;\n",
              "      height: 32px;\n",
              "      padding: 0 0 0 0;\n",
              "      width: 32px;\n",
              "    }\n",
              "\n",
              "    .colab-df-convert:hover {\n",
              "      background-color: #E2EBFA;\n",
              "      box-shadow: 0px 1px 2px rgba(60, 64, 67, 0.3), 0px 1px 3px 1px rgba(60, 64, 67, 0.15);\n",
              "      fill: #174EA6;\n",
              "    }\n",
              "\n",
              "    [theme=dark] .colab-df-convert {\n",
              "      background-color: #3B4455;\n",
              "      fill: #D2E3FC;\n",
              "    }\n",
              "\n",
              "    [theme=dark] .colab-df-convert:hover {\n",
              "      background-color: #434B5C;\n",
              "      box-shadow: 0px 1px 3px 1px rgba(0, 0, 0, 0.15);\n",
              "      filter: drop-shadow(0px 1px 2px rgba(0, 0, 0, 0.3));\n",
              "      fill: #FFFFFF;\n",
              "    }\n",
              "  </style>\n",
              "\n",
              "      <script>\n",
              "        const buttonEl =\n",
              "          document.querySelector('#df-c927ca69-91c0-41fe-87fe-8399fc559e17 button.colab-df-convert');\n",
              "        buttonEl.style.display =\n",
              "          google.colab.kernel.accessAllowed ? 'block' : 'none';\n",
              "\n",
              "        async function convertToInteractive(key) {\n",
              "          const element = document.querySelector('#df-c927ca69-91c0-41fe-87fe-8399fc559e17');\n",
              "          const dataTable =\n",
              "            await google.colab.kernel.invokeFunction('convertToInteractive',\n",
              "                                                     [key], {});\n",
              "          if (!dataTable) return;\n",
              "\n",
              "          const docLinkHtml = 'Like what you see? Visit the ' +\n",
              "            '<a target=\"_blank\" href=https://colab.research.google.com/notebooks/data_table.ipynb>data table notebook</a>'\n",
              "            + ' to learn more about interactive tables.';\n",
              "          element.innerHTML = '';\n",
              "          dataTable['output_type'] = 'display_data';\n",
              "          await google.colab.output.renderOutput(dataTable, element);\n",
              "          const docLink = document.createElement('div');\n",
              "          docLink.innerHTML = docLinkHtml;\n",
              "          element.appendChild(docLink);\n",
              "        }\n",
              "      </script>\n",
              "    </div>\n",
              "  </div>\n",
              "  "
            ]
          },
          "metadata": {},
          "execution_count": 27
        }
      ]
    },
    {
      "cell_type": "markdown",
      "source": [
        "#Import new data the automated way to concat to the old dataframe - Usefull for updating more than one days"
      ],
      "metadata": {
        "id": "TPweJe7y4-JT"
      }
    },
    {
      "cell_type": "code",
      "source": [
        "base_url = \"https://www.enexgroup.gr/documents/20126/314344/\""
      ],
      "metadata": {
        "id": "7_qSr98q5dbJ"
      },
      "execution_count": 30,
      "outputs": []
    },
    {
      "cell_type": "code",
      "source": [
        "#Set the dates that you are interested in importing, example:\n",
        "start_date = datetime(2023, 7, 1)\n",
        "end_date = datetime(2023, 5, 2) #past from that we have no information on the page\n",
        "date_format = \"%Y%m%d\""
      ],
      "metadata": {
        "id": "heEvHU465ddt"
      },
      "execution_count": null,
      "outputs": []
    },
    {
      "cell_type": "code",
      "source": [
        "current_date = start_date\n",
        "while current_date <= end_date:\n",
        "   # Check if the current day is not a Saturday (weekday() returns 5) and not a Sunday (weekday() returns 6)\n",
        "    if current_date.weekday() not in [5, 6]:\n",
        "        date_str = current_date.strftime(date_format)\n",
        "        url = f\"{base_url}{date_str}_DER_DOL_EN_v01.xlsx\"\n",
        "\n",
        "    #Add the url for the dataframe creation\n",
        "    xlsx_path = 'url'\n",
        "    # Read the XLSX file into a pandas DataFrame\n",
        "    df1 = pd.read_excel(xlsx_path, sheet_name = 'DOL_Derivatives') #Specify the sheet, so that it does not import all the information from the excel file\n",
        "    df = pd.concat([df, df1])\n",
        "\n",
        "    # Increment to the next date\n",
        "    current_date += timedelta(days=1)"
      ],
      "metadata": {
        "id": "F8izlB1j5dmV"
      },
      "execution_count": null,
      "outputs": []
    },
    {
      "cell_type": "markdown",
      "source": [
        "#Concat all dataframes to one"
      ],
      "metadata": {
        "id": "oeyXAE5wficH"
      }
    },
    {
      "cell_type": "code",
      "source": [
        "df = pd.concat([df, df1])"
      ],
      "metadata": {
        "id": "KL6w3ls6cS39"
      },
      "execution_count": 28,
      "outputs": []
    },
    {
      "cell_type": "markdown",
      "source": [
        "#Save to Drive"
      ],
      "metadata": {
        "id": "Xq7mpXwIfnVb"
      }
    },
    {
      "cell_type": "code",
      "source": [
        "path = '/content/drive/My Drive/base_exchange_data_HENEX.csv'\n",
        "with open(path, 'w', encoding = 'utf-8-sig') as f:\n",
        "  df.to_csv(f)"
      ],
      "metadata": {
        "id": "D5Rpkn-cr97E"
      },
      "execution_count": 20,
      "outputs": []
    }
  ]
}