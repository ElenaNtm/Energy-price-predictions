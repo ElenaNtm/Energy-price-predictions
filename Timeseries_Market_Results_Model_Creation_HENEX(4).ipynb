{
  "nbformat": 4,
  "nbformat_minor": 0,
  "metadata": {
    "colab": {
      "provenance": [],
      "mount_file_id": "1NsYkiAmbCBASRGDejQ-01vMmJV8-VZ8U",
      "authorship_tag": "ABX9TyNFf95T/E3MjhVMqhSvpQf0",
      "include_colab_link": true
    },
    "kernelspec": {
      "name": "python3",
      "display_name": "Python 3"
    },
    "language_info": {
      "name": "python"
    }
  },
  "cells": [
    {
      "cell_type": "markdown",
      "metadata": {
        "id": "view-in-github",
        "colab_type": "text"
      },
      "source": [
        "<a href=\"https://colab.research.google.com/github/ElenaNtm/Energy-price-predictions/blob/main/Timeseries_Market_Results_Model_Creation_HENEX(4).ipynb\" target=\"_parent\"><img src=\"https://colab.research.google.com/assets/colab-badge.svg\" alt=\"Open In Colab\"/></a>"
      ]
    },
    {
      "cell_type": "markdown",
      "source": [
        "#Libraries"
      ],
      "metadata": {
        "id": "Bqwc17mXOImu"
      }
    },
    {
      "cell_type": "code",
      "source": [
        "from google.colab import drive\n",
        "drive.mount('/content/drive')"
      ],
      "metadata": {
        "colab": {
          "base_uri": "https://localhost:8080/"
        },
        "id": "nTL5ZfSbVhFk",
        "outputId": "dbebcaa8-e13f-4190-fedd-437b7a3801eb"
      },
      "execution_count": null,
      "outputs": [
        {
          "output_type": "stream",
          "name": "stdout",
          "text": [
            "Drive already mounted at /content/drive; to attempt to forcibly remount, call drive.mount(\"/content/drive\", force_remount=True).\n"
          ]
        }
      ]
    },
    {
      "cell_type": "code",
      "source": [
        "import tensorflow as tf\n",
        "import pandas as pd\n",
        "import numpy as np\n",
        "import matplotlib.pyplot as plt\n",
        "import seaborn as sns"
      ],
      "metadata": {
        "id": "4baeAxyiobUF"
      },
      "execution_count": null,
      "outputs": []
    },
    {
      "cell_type": "code",
      "source": [
        "from tensorflow import keras\n",
        "from sklearn.preprocessing import MinMaxScaler"
      ],
      "metadata": {
        "id": "vXzranbTYCfu"
      },
      "execution_count": null,
      "outputs": []
    },
    {
      "cell_type": "code",
      "source": [
        "import os\n",
        "import datetime\n",
        "\n",
        "import IPython\n",
        "import IPython.display\n",
        "import matplotlib as mpl\n",
        "\n",
        "\n",
        "mpl.rcParams['figure.figsize'] = (8, 6)\n",
        "mpl.rcParams['axes.grid'] = False"
      ],
      "metadata": {
        "id": "v8PWgYYhobWx"
      },
      "execution_count": null,
      "outputs": []
    },
    {
      "cell_type": "code",
      "source": [
        "from sklearn.preprocessing import LabelEncoder"
      ],
      "metadata": {
        "id": "XfUX--OJWyKU"
      },
      "execution_count": null,
      "outputs": []
    },
    {
      "cell_type": "markdown",
      "source": [
        "#Load Data"
      ],
      "metadata": {
        "id": "Z7okpZOUOMBw"
      }
    },
    {
      "cell_type": "code",
      "source": [
        "path = \"/content/drive/MyDrive/Market_Res\"\n",
        "#df = pd.read_csv(path, parse_dates=[\"Trade Day\"])\n",
        "df = pd.read_csv(path,  parse_dates=[\"DELIVERY_MTU\",\"DDAY\"],\n",
        "                 index_col=[\"DDAY\"])"
      ],
      "metadata": {
        "id": "K9JykflxobZd"
      },
      "execution_count": null,
      "outputs": []
    },
    {
      "cell_type": "code",
      "source": [
        "df.head()"
      ],
      "metadata": {
        "id": "_ICunHqTobcT",
        "colab": {
          "base_uri": "https://localhost:8080/"
        },
        "outputId": "682e10f9-bdcc-4e8d-a437-0b990b5d1d98"
      },
      "execution_count": null,
      "outputs": [
        {
          "output_type": "execute_result",
          "data": {
            "text/plain": [
              "            Unnamed: 0  TARGET SIDE_DESCR ASSET_DESCR CLASSIFICATION  \\\n",
              "DDAY                                                                   \n",
              "2023-01-01           0  CRIDA1        Buy       GR-IT        Exports   \n",
              "2023-01-01           1  CRIDA1        Buy       GR-IT        Exports   \n",
              "2023-01-01           2  CRIDA1        Buy       GR-IT        Exports   \n",
              "2023-01-01           3  CRIDA1        Buy        LOAD             LV   \n",
              "2023-01-01           4  CRIDA1        Buy        LOAD             LV   \n",
              "\n",
              "                  DELIVERY_MTU  SORT     MCP  TOTAL_TRADES  \n",
              "DDAY                                                        \n",
              "2023-01-01 2023-01-01 00:00:00     1  216.90         4.600  \n",
              "2023-01-01 2023-01-01 19:00:00    20  264.42         1.600  \n",
              "2023-01-01 2023-01-01 20:00:00    21  247.00         0.700  \n",
              "2023-01-01 2023-01-01 00:00:00     1  216.90        23.745  \n",
              "2023-01-01 2023-01-01 01:00:00     2  264.94        27.327  "
            ],
            "text/html": [
              "\n",
              "  <div id=\"df-fb83f6d8-189e-46f3-acc7-5c0b8fe1f699\">\n",
              "    <div class=\"colab-df-container\">\n",
              "      <div>\n",
              "<style scoped>\n",
              "    .dataframe tbody tr th:only-of-type {\n",
              "        vertical-align: middle;\n",
              "    }\n",
              "\n",
              "    .dataframe tbody tr th {\n",
              "        vertical-align: top;\n",
              "    }\n",
              "\n",
              "    .dataframe thead th {\n",
              "        text-align: right;\n",
              "    }\n",
              "</style>\n",
              "<table border=\"1\" class=\"dataframe\">\n",
              "  <thead>\n",
              "    <tr style=\"text-align: right;\">\n",
              "      <th></th>\n",
              "      <th>Unnamed: 0</th>\n",
              "      <th>TARGET</th>\n",
              "      <th>SIDE_DESCR</th>\n",
              "      <th>ASSET_DESCR</th>\n",
              "      <th>CLASSIFICATION</th>\n",
              "      <th>DELIVERY_MTU</th>\n",
              "      <th>SORT</th>\n",
              "      <th>MCP</th>\n",
              "      <th>TOTAL_TRADES</th>\n",
              "    </tr>\n",
              "    <tr>\n",
              "      <th>DDAY</th>\n",
              "      <th></th>\n",
              "      <th></th>\n",
              "      <th></th>\n",
              "      <th></th>\n",
              "      <th></th>\n",
              "      <th></th>\n",
              "      <th></th>\n",
              "      <th></th>\n",
              "      <th></th>\n",
              "    </tr>\n",
              "  </thead>\n",
              "  <tbody>\n",
              "    <tr>\n",
              "      <th>2023-01-01</th>\n",
              "      <td>0</td>\n",
              "      <td>CRIDA1</td>\n",
              "      <td>Buy</td>\n",
              "      <td>GR-IT</td>\n",
              "      <td>Exports</td>\n",
              "      <td>2023-01-01 00:00:00</td>\n",
              "      <td>1</td>\n",
              "      <td>216.90</td>\n",
              "      <td>4.600</td>\n",
              "    </tr>\n",
              "    <tr>\n",
              "      <th>2023-01-01</th>\n",
              "      <td>1</td>\n",
              "      <td>CRIDA1</td>\n",
              "      <td>Buy</td>\n",
              "      <td>GR-IT</td>\n",
              "      <td>Exports</td>\n",
              "      <td>2023-01-01 19:00:00</td>\n",
              "      <td>20</td>\n",
              "      <td>264.42</td>\n",
              "      <td>1.600</td>\n",
              "    </tr>\n",
              "    <tr>\n",
              "      <th>2023-01-01</th>\n",
              "      <td>2</td>\n",
              "      <td>CRIDA1</td>\n",
              "      <td>Buy</td>\n",
              "      <td>GR-IT</td>\n",
              "      <td>Exports</td>\n",
              "      <td>2023-01-01 20:00:00</td>\n",
              "      <td>21</td>\n",
              "      <td>247.00</td>\n",
              "      <td>0.700</td>\n",
              "    </tr>\n",
              "    <tr>\n",
              "      <th>2023-01-01</th>\n",
              "      <td>3</td>\n",
              "      <td>CRIDA1</td>\n",
              "      <td>Buy</td>\n",
              "      <td>LOAD</td>\n",
              "      <td>LV</td>\n",
              "      <td>2023-01-01 00:00:00</td>\n",
              "      <td>1</td>\n",
              "      <td>216.90</td>\n",
              "      <td>23.745</td>\n",
              "    </tr>\n",
              "    <tr>\n",
              "      <th>2023-01-01</th>\n",
              "      <td>4</td>\n",
              "      <td>CRIDA1</td>\n",
              "      <td>Buy</td>\n",
              "      <td>LOAD</td>\n",
              "      <td>LV</td>\n",
              "      <td>2023-01-01 01:00:00</td>\n",
              "      <td>2</td>\n",
              "      <td>264.94</td>\n",
              "      <td>27.327</td>\n",
              "    </tr>\n",
              "  </tbody>\n",
              "</table>\n",
              "</div>\n",
              "      <button class=\"colab-df-convert\" onclick=\"convertToInteractive('df-fb83f6d8-189e-46f3-acc7-5c0b8fe1f699')\"\n",
              "              title=\"Convert this dataframe to an interactive table.\"\n",
              "              style=\"display:none;\">\n",
              "        \n",
              "  <svg xmlns=\"http://www.w3.org/2000/svg\" height=\"24px\"viewBox=\"0 0 24 24\"\n",
              "       width=\"24px\">\n",
              "    <path d=\"M0 0h24v24H0V0z\" fill=\"none\"/>\n",
              "    <path d=\"M18.56 5.44l.94 2.06.94-2.06 2.06-.94-2.06-.94-.94-2.06-.94 2.06-2.06.94zm-11 1L8.5 8.5l.94-2.06 2.06-.94-2.06-.94L8.5 2.5l-.94 2.06-2.06.94zm10 10l.94 2.06.94-2.06 2.06-.94-2.06-.94-.94-2.06-.94 2.06-2.06.94z\"/><path d=\"M17.41 7.96l-1.37-1.37c-.4-.4-.92-.59-1.43-.59-.52 0-1.04.2-1.43.59L10.3 9.45l-7.72 7.72c-.78.78-.78 2.05 0 2.83L4 21.41c.39.39.9.59 1.41.59.51 0 1.02-.2 1.41-.59l7.78-7.78 2.81-2.81c.8-.78.8-2.07 0-2.86zM5.41 20L4 18.59l7.72-7.72 1.47 1.35L5.41 20z\"/>\n",
              "  </svg>\n",
              "      </button>\n",
              "      \n",
              "  <style>\n",
              "    .colab-df-container {\n",
              "      display:flex;\n",
              "      flex-wrap:wrap;\n",
              "      gap: 12px;\n",
              "    }\n",
              "\n",
              "    .colab-df-convert {\n",
              "      background-color: #E8F0FE;\n",
              "      border: none;\n",
              "      border-radius: 50%;\n",
              "      cursor: pointer;\n",
              "      display: none;\n",
              "      fill: #1967D2;\n",
              "      height: 32px;\n",
              "      padding: 0 0 0 0;\n",
              "      width: 32px;\n",
              "    }\n",
              "\n",
              "    .colab-df-convert:hover {\n",
              "      background-color: #E2EBFA;\n",
              "      box-shadow: 0px 1px 2px rgba(60, 64, 67, 0.3), 0px 1px 3px 1px rgba(60, 64, 67, 0.15);\n",
              "      fill: #174EA6;\n",
              "    }\n",
              "\n",
              "    [theme=dark] .colab-df-convert {\n",
              "      background-color: #3B4455;\n",
              "      fill: #D2E3FC;\n",
              "    }\n",
              "\n",
              "    [theme=dark] .colab-df-convert:hover {\n",
              "      background-color: #434B5C;\n",
              "      box-shadow: 0px 1px 3px 1px rgba(0, 0, 0, 0.15);\n",
              "      filter: drop-shadow(0px 1px 2px rgba(0, 0, 0, 0.3));\n",
              "      fill: #FFFFFF;\n",
              "    }\n",
              "  </style>\n",
              "\n",
              "      <script>\n",
              "        const buttonEl =\n",
              "          document.querySelector('#df-fb83f6d8-189e-46f3-acc7-5c0b8fe1f699 button.colab-df-convert');\n",
              "        buttonEl.style.display =\n",
              "          google.colab.kernel.accessAllowed ? 'block' : 'none';\n",
              "\n",
              "        async function convertToInteractive(key) {\n",
              "          const element = document.querySelector('#df-fb83f6d8-189e-46f3-acc7-5c0b8fe1f699');\n",
              "          const dataTable =\n",
              "            await google.colab.kernel.invokeFunction('convertToInteractive',\n",
              "                                                     [key], {});\n",
              "          if (!dataTable) return;\n",
              "\n",
              "          const docLinkHtml = 'Like what you see? Visit the ' +\n",
              "            '<a target=\"_blank\" href=https://colab.research.google.com/notebooks/data_table.ipynb>data table notebook</a>'\n",
              "            + ' to learn more about interactive tables.';\n",
              "          element.innerHTML = '';\n",
              "          dataTable['output_type'] = 'display_data';\n",
              "          await google.colab.output.renderOutput(dataTable, element);\n",
              "          const docLink = document.createElement('div');\n",
              "          docLink.innerHTML = docLinkHtml;\n",
              "          element.appendChild(docLink);\n",
              "        }\n",
              "      </script>\n",
              "    </div>\n",
              "  </div>\n",
              "  "
            ]
          },
          "metadata": {},
          "execution_count": 7
        }
      ]
    },
    {
      "cell_type": "code",
      "source": [
        "df.drop('Unnamed: 0', axis = 1, inplace = True)"
      ],
      "metadata": {
        "id": "2w8VHuheWa2X"
      },
      "execution_count": null,
      "outputs": []
    },
    {
      "cell_type": "code",
      "source": [
        "#We will drop the DDAY column, as it partially has the same info as the DELIVERY_MTU\n",
        "#df.drop('DDAY', axis = 1, inplace = True)"
      ],
      "metadata": {
        "id": "XDTDye_0TWd7"
      },
      "execution_count": null,
      "outputs": []
    },
    {
      "cell_type": "code",
      "source": [
        "df.drop('DELIVERY_MTU', axis = 1, inplace = True)"
      ],
      "metadata": {
        "id": "cWGeUIGPWQJN"
      },
      "execution_count": null,
      "outputs": []
    },
    {
      "cell_type": "code",
      "source": [
        "df.head()"
      ],
      "metadata": {
        "colab": {
          "base_uri": "https://localhost:8080/"
        },
        "id": "9yL48xdhWd3k",
        "outputId": "3fb8e516-c958-4320-c9d5-bf86ab9b0ffe"
      },
      "execution_count": null,
      "outputs": [
        {
          "output_type": "execute_result",
          "data": {
            "text/plain": [
              "            TARGET SIDE_DESCR ASSET_DESCR CLASSIFICATION  SORT     MCP  \\\n",
              "DDAY                                                                     \n",
              "2023-01-01  CRIDA1        Buy       GR-IT        Exports     1  216.90   \n",
              "2023-01-01  CRIDA1        Buy       GR-IT        Exports    20  264.42   \n",
              "2023-01-01  CRIDA1        Buy       GR-IT        Exports    21  247.00   \n",
              "2023-01-01  CRIDA1        Buy        LOAD             LV     1  216.90   \n",
              "2023-01-01  CRIDA1        Buy        LOAD             LV     2  264.94   \n",
              "\n",
              "            TOTAL_TRADES  \n",
              "DDAY                      \n",
              "2023-01-01         4.600  \n",
              "2023-01-01         1.600  \n",
              "2023-01-01         0.700  \n",
              "2023-01-01        23.745  \n",
              "2023-01-01        27.327  "
            ],
            "text/html": [
              "\n",
              "  <div id=\"df-6534ee76-2b30-456a-affc-11561465b73e\">\n",
              "    <div class=\"colab-df-container\">\n",
              "      <div>\n",
              "<style scoped>\n",
              "    .dataframe tbody tr th:only-of-type {\n",
              "        vertical-align: middle;\n",
              "    }\n",
              "\n",
              "    .dataframe tbody tr th {\n",
              "        vertical-align: top;\n",
              "    }\n",
              "\n",
              "    .dataframe thead th {\n",
              "        text-align: right;\n",
              "    }\n",
              "</style>\n",
              "<table border=\"1\" class=\"dataframe\">\n",
              "  <thead>\n",
              "    <tr style=\"text-align: right;\">\n",
              "      <th></th>\n",
              "      <th>TARGET</th>\n",
              "      <th>SIDE_DESCR</th>\n",
              "      <th>ASSET_DESCR</th>\n",
              "      <th>CLASSIFICATION</th>\n",
              "      <th>SORT</th>\n",
              "      <th>MCP</th>\n",
              "      <th>TOTAL_TRADES</th>\n",
              "    </tr>\n",
              "    <tr>\n",
              "      <th>DDAY</th>\n",
              "      <th></th>\n",
              "      <th></th>\n",
              "      <th></th>\n",
              "      <th></th>\n",
              "      <th></th>\n",
              "      <th></th>\n",
              "      <th></th>\n",
              "    </tr>\n",
              "  </thead>\n",
              "  <tbody>\n",
              "    <tr>\n",
              "      <th>2023-01-01</th>\n",
              "      <td>CRIDA1</td>\n",
              "      <td>Buy</td>\n",
              "      <td>GR-IT</td>\n",
              "      <td>Exports</td>\n",
              "      <td>1</td>\n",
              "      <td>216.90</td>\n",
              "      <td>4.600</td>\n",
              "    </tr>\n",
              "    <tr>\n",
              "      <th>2023-01-01</th>\n",
              "      <td>CRIDA1</td>\n",
              "      <td>Buy</td>\n",
              "      <td>GR-IT</td>\n",
              "      <td>Exports</td>\n",
              "      <td>20</td>\n",
              "      <td>264.42</td>\n",
              "      <td>1.600</td>\n",
              "    </tr>\n",
              "    <tr>\n",
              "      <th>2023-01-01</th>\n",
              "      <td>CRIDA1</td>\n",
              "      <td>Buy</td>\n",
              "      <td>GR-IT</td>\n",
              "      <td>Exports</td>\n",
              "      <td>21</td>\n",
              "      <td>247.00</td>\n",
              "      <td>0.700</td>\n",
              "    </tr>\n",
              "    <tr>\n",
              "      <th>2023-01-01</th>\n",
              "      <td>CRIDA1</td>\n",
              "      <td>Buy</td>\n",
              "      <td>LOAD</td>\n",
              "      <td>LV</td>\n",
              "      <td>1</td>\n",
              "      <td>216.90</td>\n",
              "      <td>23.745</td>\n",
              "    </tr>\n",
              "    <tr>\n",
              "      <th>2023-01-01</th>\n",
              "      <td>CRIDA1</td>\n",
              "      <td>Buy</td>\n",
              "      <td>LOAD</td>\n",
              "      <td>LV</td>\n",
              "      <td>2</td>\n",
              "      <td>264.94</td>\n",
              "      <td>27.327</td>\n",
              "    </tr>\n",
              "  </tbody>\n",
              "</table>\n",
              "</div>\n",
              "      <button class=\"colab-df-convert\" onclick=\"convertToInteractive('df-6534ee76-2b30-456a-affc-11561465b73e')\"\n",
              "              title=\"Convert this dataframe to an interactive table.\"\n",
              "              style=\"display:none;\">\n",
              "        \n",
              "  <svg xmlns=\"http://www.w3.org/2000/svg\" height=\"24px\"viewBox=\"0 0 24 24\"\n",
              "       width=\"24px\">\n",
              "    <path d=\"M0 0h24v24H0V0z\" fill=\"none\"/>\n",
              "    <path d=\"M18.56 5.44l.94 2.06.94-2.06 2.06-.94-2.06-.94-.94-2.06-.94 2.06-2.06.94zm-11 1L8.5 8.5l.94-2.06 2.06-.94-2.06-.94L8.5 2.5l-.94 2.06-2.06.94zm10 10l.94 2.06.94-2.06 2.06-.94-2.06-.94-.94-2.06-.94 2.06-2.06.94z\"/><path d=\"M17.41 7.96l-1.37-1.37c-.4-.4-.92-.59-1.43-.59-.52 0-1.04.2-1.43.59L10.3 9.45l-7.72 7.72c-.78.78-.78 2.05 0 2.83L4 21.41c.39.39.9.59 1.41.59.51 0 1.02-.2 1.41-.59l7.78-7.78 2.81-2.81c.8-.78.8-2.07 0-2.86zM5.41 20L4 18.59l7.72-7.72 1.47 1.35L5.41 20z\"/>\n",
              "  </svg>\n",
              "      </button>\n",
              "      \n",
              "  <style>\n",
              "    .colab-df-container {\n",
              "      display:flex;\n",
              "      flex-wrap:wrap;\n",
              "      gap: 12px;\n",
              "    }\n",
              "\n",
              "    .colab-df-convert {\n",
              "      background-color: #E8F0FE;\n",
              "      border: none;\n",
              "      border-radius: 50%;\n",
              "      cursor: pointer;\n",
              "      display: none;\n",
              "      fill: #1967D2;\n",
              "      height: 32px;\n",
              "      padding: 0 0 0 0;\n",
              "      width: 32px;\n",
              "    }\n",
              "\n",
              "    .colab-df-convert:hover {\n",
              "      background-color: #E2EBFA;\n",
              "      box-shadow: 0px 1px 2px rgba(60, 64, 67, 0.3), 0px 1px 3px 1px rgba(60, 64, 67, 0.15);\n",
              "      fill: #174EA6;\n",
              "    }\n",
              "\n",
              "    [theme=dark] .colab-df-convert {\n",
              "      background-color: #3B4455;\n",
              "      fill: #D2E3FC;\n",
              "    }\n",
              "\n",
              "    [theme=dark] .colab-df-convert:hover {\n",
              "      background-color: #434B5C;\n",
              "      box-shadow: 0px 1px 3px 1px rgba(0, 0, 0, 0.15);\n",
              "      filter: drop-shadow(0px 1px 2px rgba(0, 0, 0, 0.3));\n",
              "      fill: #FFFFFF;\n",
              "    }\n",
              "  </style>\n",
              "\n",
              "      <script>\n",
              "        const buttonEl =\n",
              "          document.querySelector('#df-6534ee76-2b30-456a-affc-11561465b73e button.colab-df-convert');\n",
              "        buttonEl.style.display =\n",
              "          google.colab.kernel.accessAllowed ? 'block' : 'none';\n",
              "\n",
              "        async function convertToInteractive(key) {\n",
              "          const element = document.querySelector('#df-6534ee76-2b30-456a-affc-11561465b73e');\n",
              "          const dataTable =\n",
              "            await google.colab.kernel.invokeFunction('convertToInteractive',\n",
              "                                                     [key], {});\n",
              "          if (!dataTable) return;\n",
              "\n",
              "          const docLinkHtml = 'Like what you see? Visit the ' +\n",
              "            '<a target=\"_blank\" href=https://colab.research.google.com/notebooks/data_table.ipynb>data table notebook</a>'\n",
              "            + ' to learn more about interactive tables.';\n",
              "          element.innerHTML = '';\n",
              "          dataTable['output_type'] = 'display_data';\n",
              "          await google.colab.output.renderOutput(dataTable, element);\n",
              "          const docLink = document.createElement('div');\n",
              "          docLink.innerHTML = docLinkHtml;\n",
              "          element.appendChild(docLink);\n",
              "        }\n",
              "      </script>\n",
              "    </div>\n",
              "  </div>\n",
              "  "
            ]
          },
          "metadata": {},
          "execution_count": 11
        }
      ]
    },
    {
      "cell_type": "markdown",
      "source": [
        "#Encode the categorical data with label encoder"
      ],
      "metadata": {
        "id": "CE_Yi0N6WhqX"
      }
    },
    {
      "cell_type": "code",
      "source": [
        "#First we will split the numerical, datetime and categorical columns of the dataframe\n",
        "# Initialize empty lists to store column names\n",
        "numerical_cols = []\n",
        "categorical_cols = []\n",
        "#datetime_cols = []\n",
        "#non_datetime_cols = []"
      ],
      "metadata": {
        "id": "wsbQRXJ9Wbg-"
      },
      "execution_count": null,
      "outputs": []
    },
    {
      "cell_type": "code",
      "source": [
        "# Loop through DataFrame columns and categorize them based on data type\n",
        "for column in df.columns:\n",
        "    if pd.api.types.is_numeric_dtype(df[column]):\n",
        "        numerical_cols.append(column)\n",
        "    #elif pd.api.types.is_datetime64_any_dtype(df[column]):\n",
        "        #datetime_cols.append(column)\n",
        "    else:\n",
        "        categorical_cols.append(column)\n"
      ],
      "metadata": {
        "id": "nHc28LTdXqhP"
      },
      "execution_count": null,
      "outputs": []
    },
    {
      "cell_type": "code",
      "source": [
        "#non_datetime_cols.extend(numerical_cols)\n",
        "#non_datetime_cols.extend(categorical_cols)"
      ],
      "metadata": {
        "id": "2P8kOEwEZXsa"
      },
      "execution_count": null,
      "outputs": []
    },
    {
      "cell_type": "code",
      "source": [
        "print('The numerical columns are: ', numerical_cols)\n",
        "#print('The datetime columns are: ', datetime_cols)\n",
        "print('The categorical columns that will be encoded are: ', categorical_cols)\n",
        "#print('The non datetime columns that will be encoded in a later step are: ', non_datetime_cols)"
      ],
      "metadata": {
        "colab": {
          "base_uri": "https://localhost:8080/"
        },
        "id": "IrV9enXTXxSN",
        "outputId": "d672dacd-fc3c-4494-d47b-8492ce5e7c77"
      },
      "execution_count": null,
      "outputs": [
        {
          "output_type": "stream",
          "name": "stdout",
          "text": [
            "The numerical columns are:  ['SORT', 'MCP', 'TOTAL_TRADES']\n",
            "The categorical columns that will be encoded are:  ['TARGET', 'SIDE_DESCR', 'ASSET_DESCR', 'CLASSIFICATION']\n"
          ]
        }
      ]
    },
    {
      "cell_type": "code",
      "source": [
        "#Define the LabelEncoder\n",
        "label_encoder = LabelEncoder()"
      ],
      "metadata": {
        "id": "YdZ4jmY5YLac"
      },
      "execution_count": null,
      "outputs": []
    },
    {
      "cell_type": "code",
      "source": [
        "#Encode the categorical columns\n",
        "for column in categorical_cols:\n",
        "    df[column] = label_encoder.fit_transform(df[column])"
      ],
      "metadata": {
        "id": "OPVbiT3EYkqq"
      },
      "execution_count": null,
      "outputs": []
    },
    {
      "cell_type": "code",
      "source": [
        "df.head()"
      ],
      "metadata": {
        "colab": {
          "base_uri": "https://localhost:8080/"
        },
        "id": "-C0mVB9jYn51",
        "outputId": "750d734c-4b1d-4986-e335-bcde5f368e09"
      },
      "execution_count": null,
      "outputs": [
        {
          "output_type": "execute_result",
          "data": {
            "text/plain": [
              "            TARGET  SIDE_DESCR  ASSET_DESCR  CLASSIFICATION  SORT     MCP  \\\n",
              "DDAY                                                                        \n",
              "2023-01-01       0           0            4               4     1  216.90   \n",
              "2023-01-01       0           0            4               4    20  264.42   \n",
              "2023-01-01       0           0            4               4    21  247.00   \n",
              "2023-01-01       0           0            8               8     1  216.90   \n",
              "2023-01-01       0           0            8               8     2  264.94   \n",
              "\n",
              "            TOTAL_TRADES  \n",
              "DDAY                      \n",
              "2023-01-01         4.600  \n",
              "2023-01-01         1.600  \n",
              "2023-01-01         0.700  \n",
              "2023-01-01        23.745  \n",
              "2023-01-01        27.327  "
            ],
            "text/html": [
              "\n",
              "  <div id=\"df-7c01447f-f9a5-4799-933d-bece891c7164\">\n",
              "    <div class=\"colab-df-container\">\n",
              "      <div>\n",
              "<style scoped>\n",
              "    .dataframe tbody tr th:only-of-type {\n",
              "        vertical-align: middle;\n",
              "    }\n",
              "\n",
              "    .dataframe tbody tr th {\n",
              "        vertical-align: top;\n",
              "    }\n",
              "\n",
              "    .dataframe thead th {\n",
              "        text-align: right;\n",
              "    }\n",
              "</style>\n",
              "<table border=\"1\" class=\"dataframe\">\n",
              "  <thead>\n",
              "    <tr style=\"text-align: right;\">\n",
              "      <th></th>\n",
              "      <th>TARGET</th>\n",
              "      <th>SIDE_DESCR</th>\n",
              "      <th>ASSET_DESCR</th>\n",
              "      <th>CLASSIFICATION</th>\n",
              "      <th>SORT</th>\n",
              "      <th>MCP</th>\n",
              "      <th>TOTAL_TRADES</th>\n",
              "    </tr>\n",
              "    <tr>\n",
              "      <th>DDAY</th>\n",
              "      <th></th>\n",
              "      <th></th>\n",
              "      <th></th>\n",
              "      <th></th>\n",
              "      <th></th>\n",
              "      <th></th>\n",
              "      <th></th>\n",
              "    </tr>\n",
              "  </thead>\n",
              "  <tbody>\n",
              "    <tr>\n",
              "      <th>2023-01-01</th>\n",
              "      <td>0</td>\n",
              "      <td>0</td>\n",
              "      <td>4</td>\n",
              "      <td>4</td>\n",
              "      <td>1</td>\n",
              "      <td>216.90</td>\n",
              "      <td>4.600</td>\n",
              "    </tr>\n",
              "    <tr>\n",
              "      <th>2023-01-01</th>\n",
              "      <td>0</td>\n",
              "      <td>0</td>\n",
              "      <td>4</td>\n",
              "      <td>4</td>\n",
              "      <td>20</td>\n",
              "      <td>264.42</td>\n",
              "      <td>1.600</td>\n",
              "    </tr>\n",
              "    <tr>\n",
              "      <th>2023-01-01</th>\n",
              "      <td>0</td>\n",
              "      <td>0</td>\n",
              "      <td>4</td>\n",
              "      <td>4</td>\n",
              "      <td>21</td>\n",
              "      <td>247.00</td>\n",
              "      <td>0.700</td>\n",
              "    </tr>\n",
              "    <tr>\n",
              "      <th>2023-01-01</th>\n",
              "      <td>0</td>\n",
              "      <td>0</td>\n",
              "      <td>8</td>\n",
              "      <td>8</td>\n",
              "      <td>1</td>\n",
              "      <td>216.90</td>\n",
              "      <td>23.745</td>\n",
              "    </tr>\n",
              "    <tr>\n",
              "      <th>2023-01-01</th>\n",
              "      <td>0</td>\n",
              "      <td>0</td>\n",
              "      <td>8</td>\n",
              "      <td>8</td>\n",
              "      <td>2</td>\n",
              "      <td>264.94</td>\n",
              "      <td>27.327</td>\n",
              "    </tr>\n",
              "  </tbody>\n",
              "</table>\n",
              "</div>\n",
              "      <button class=\"colab-df-convert\" onclick=\"convertToInteractive('df-7c01447f-f9a5-4799-933d-bece891c7164')\"\n",
              "              title=\"Convert this dataframe to an interactive table.\"\n",
              "              style=\"display:none;\">\n",
              "        \n",
              "  <svg xmlns=\"http://www.w3.org/2000/svg\" height=\"24px\"viewBox=\"0 0 24 24\"\n",
              "       width=\"24px\">\n",
              "    <path d=\"M0 0h24v24H0V0z\" fill=\"none\"/>\n",
              "    <path d=\"M18.56 5.44l.94 2.06.94-2.06 2.06-.94-2.06-.94-.94-2.06-.94 2.06-2.06.94zm-11 1L8.5 8.5l.94-2.06 2.06-.94-2.06-.94L8.5 2.5l-.94 2.06-2.06.94zm10 10l.94 2.06.94-2.06 2.06-.94-2.06-.94-.94-2.06-.94 2.06-2.06.94z\"/><path d=\"M17.41 7.96l-1.37-1.37c-.4-.4-.92-.59-1.43-.59-.52 0-1.04.2-1.43.59L10.3 9.45l-7.72 7.72c-.78.78-.78 2.05 0 2.83L4 21.41c.39.39.9.59 1.41.59.51 0 1.02-.2 1.41-.59l7.78-7.78 2.81-2.81c.8-.78.8-2.07 0-2.86zM5.41 20L4 18.59l7.72-7.72 1.47 1.35L5.41 20z\"/>\n",
              "  </svg>\n",
              "      </button>\n",
              "      \n",
              "  <style>\n",
              "    .colab-df-container {\n",
              "      display:flex;\n",
              "      flex-wrap:wrap;\n",
              "      gap: 12px;\n",
              "    }\n",
              "\n",
              "    .colab-df-convert {\n",
              "      background-color: #E8F0FE;\n",
              "      border: none;\n",
              "      border-radius: 50%;\n",
              "      cursor: pointer;\n",
              "      display: none;\n",
              "      fill: #1967D2;\n",
              "      height: 32px;\n",
              "      padding: 0 0 0 0;\n",
              "      width: 32px;\n",
              "    }\n",
              "\n",
              "    .colab-df-convert:hover {\n",
              "      background-color: #E2EBFA;\n",
              "      box-shadow: 0px 1px 2px rgba(60, 64, 67, 0.3), 0px 1px 3px 1px rgba(60, 64, 67, 0.15);\n",
              "      fill: #174EA6;\n",
              "    }\n",
              "\n",
              "    [theme=dark] .colab-df-convert {\n",
              "      background-color: #3B4455;\n",
              "      fill: #D2E3FC;\n",
              "    }\n",
              "\n",
              "    [theme=dark] .colab-df-convert:hover {\n",
              "      background-color: #434B5C;\n",
              "      box-shadow: 0px 1px 3px 1px rgba(0, 0, 0, 0.15);\n",
              "      filter: drop-shadow(0px 1px 2px rgba(0, 0, 0, 0.3));\n",
              "      fill: #FFFFFF;\n",
              "    }\n",
              "  </style>\n",
              "\n",
              "      <script>\n",
              "        const buttonEl =\n",
              "          document.querySelector('#df-7c01447f-f9a5-4799-933d-bece891c7164 button.colab-df-convert');\n",
              "        buttonEl.style.display =\n",
              "          google.colab.kernel.accessAllowed ? 'block' : 'none';\n",
              "\n",
              "        async function convertToInteractive(key) {\n",
              "          const element = document.querySelector('#df-7c01447f-f9a5-4799-933d-bece891c7164');\n",
              "          const dataTable =\n",
              "            await google.colab.kernel.invokeFunction('convertToInteractive',\n",
              "                                                     [key], {});\n",
              "          if (!dataTable) return;\n",
              "\n",
              "          const docLinkHtml = 'Like what you see? Visit the ' +\n",
              "            '<a target=\"_blank\" href=https://colab.research.google.com/notebooks/data_table.ipynb>data table notebook</a>'\n",
              "            + ' to learn more about interactive tables.';\n",
              "          element.innerHTML = '';\n",
              "          dataTable['output_type'] = 'display_data';\n",
              "          await google.colab.output.renderOutput(dataTable, element);\n",
              "          const docLink = document.createElement('div');\n",
              "          docLink.innerHTML = docLinkHtml;\n",
              "          element.appendChild(docLink);\n",
              "        }\n",
              "      </script>\n",
              "    </div>\n",
              "  </div>\n",
              "  "
            ]
          },
          "metadata": {},
          "execution_count": 18
        }
      ]
    },
    {
      "cell_type": "markdown",
      "source": [
        "For Decoding the data use the method: label_encoder.inverse_transform(encoded_column)"
      ],
      "metadata": {
        "id": "ceNtVrfJZvyp"
      }
    },
    {
      "cell_type": "markdown",
      "source": [
        "#Now that we have all the data encoded we will Scale them for further use. We will use the MinMaxScaler as we do not have normal distribution in our data-Not to run here"
      ],
      "metadata": {
        "id": "hOrJ60xLYsSK"
      }
    },
    {
      "cell_type": "code",
      "source": [
        "#Define the Scaler\n",
        "scaler = MinMaxScaler()"
      ],
      "metadata": {
        "id": "p2rYlyQeYpFQ"
      },
      "execution_count": null,
      "outputs": []
    },
    {
      "cell_type": "code",
      "source": [
        "columns = df.columns\n",
        "print(columns)"
      ],
      "metadata": {
        "colab": {
          "base_uri": "https://localhost:8080/"
        },
        "id": "oS4m9hmaUOk8",
        "outputId": "cc8539d2-77ff-4378-b2f5-dce6d0fd7c2d"
      },
      "execution_count": null,
      "outputs": [
        {
          "output_type": "stream",
          "name": "stdout",
          "text": [
            "Index(['TARGET', 'SIDE_DESCR', 'ASSET_DESCR', 'CLASSIFICATION', 'SORT', 'MCP',\n",
            "       'TOTAL_TRADES'],\n",
            "      dtype='object')\n"
          ]
        }
      ]
    },
    {
      "cell_type": "code",
      "source": [
        "df[columns] = scaler.fit_transform(df[columns])"
      ],
      "metadata": {
        "id": "hrmPSdOnZLaF"
      },
      "execution_count": null,
      "outputs": []
    },
    {
      "cell_type": "markdown",
      "source": [
        "##First you will need to descale the data to get the true results for the model"
      ],
      "metadata": {
        "id": "Q6fkWxfKcBCc"
      }
    },
    {
      "cell_type": "code",
      "source": [
        "#df[numerical_cols] = scaler.inverse_transform(df[numerical_cols])\n",
        "#df[categorical_cols] = scaler.inverse_transform(df[categorical_cols])"
      ],
      "metadata": {
        "id": "9FZPt8LEbxcE"
      },
      "execution_count": null,
      "outputs": []
    },
    {
      "cell_type": "code",
      "source": [
        "df.head()"
      ],
      "metadata": {
        "colab": {
          "base_uri": "https://localhost:8080/"
        },
        "id": "ElNiwkz7t3nz",
        "outputId": "86d582dc-e27a-4a45-da8c-4cf5e0be7cf3"
      },
      "execution_count": null,
      "outputs": [
        {
          "output_type": "execute_result",
          "data": {
            "text/plain": [
              "            TARGET  SIDE_DESCR  ASSET_DESCR  CLASSIFICATION      SORT  \\\n",
              "DDAY                                                                    \n",
              "2023-01-01     0.0         0.0     0.363636        0.307692  0.000000   \n",
              "2023-01-01     0.0         0.0     0.363636        0.307692  0.826087   \n",
              "2023-01-01     0.0         0.0     0.363636        0.307692  0.869565   \n",
              "2023-01-01     0.0         0.0     0.727273        0.615385  0.000000   \n",
              "2023-01-01     0.0         0.0     0.727273        0.615385  0.043478   \n",
              "\n",
              "                 MCP  TOTAL_TRADES  \n",
              "DDAY                                \n",
              "2023-01-01  0.100953      0.000767  \n",
              "2023-01-01  0.116571      0.000267  \n",
              "2023-01-01  0.110846      0.000117  \n",
              "2023-01-01  0.100953      0.003960  \n",
              "2023-01-01  0.116742      0.004558  "
            ],
            "text/html": [
              "\n",
              "  <div id=\"df-241e21c2-0945-4677-85c3-7b287fb61a0e\">\n",
              "    <div class=\"colab-df-container\">\n",
              "      <div>\n",
              "<style scoped>\n",
              "    .dataframe tbody tr th:only-of-type {\n",
              "        vertical-align: middle;\n",
              "    }\n",
              "\n",
              "    .dataframe tbody tr th {\n",
              "        vertical-align: top;\n",
              "    }\n",
              "\n",
              "    .dataframe thead th {\n",
              "        text-align: right;\n",
              "    }\n",
              "</style>\n",
              "<table border=\"1\" class=\"dataframe\">\n",
              "  <thead>\n",
              "    <tr style=\"text-align: right;\">\n",
              "      <th></th>\n",
              "      <th>TARGET</th>\n",
              "      <th>SIDE_DESCR</th>\n",
              "      <th>ASSET_DESCR</th>\n",
              "      <th>CLASSIFICATION</th>\n",
              "      <th>SORT</th>\n",
              "      <th>MCP</th>\n",
              "      <th>TOTAL_TRADES</th>\n",
              "    </tr>\n",
              "    <tr>\n",
              "      <th>DDAY</th>\n",
              "      <th></th>\n",
              "      <th></th>\n",
              "      <th></th>\n",
              "      <th></th>\n",
              "      <th></th>\n",
              "      <th></th>\n",
              "      <th></th>\n",
              "    </tr>\n",
              "  </thead>\n",
              "  <tbody>\n",
              "    <tr>\n",
              "      <th>2023-01-01</th>\n",
              "      <td>0.0</td>\n",
              "      <td>0.0</td>\n",
              "      <td>0.363636</td>\n",
              "      <td>0.307692</td>\n",
              "      <td>0.000000</td>\n",
              "      <td>0.100953</td>\n",
              "      <td>0.000767</td>\n",
              "    </tr>\n",
              "    <tr>\n",
              "      <th>2023-01-01</th>\n",
              "      <td>0.0</td>\n",
              "      <td>0.0</td>\n",
              "      <td>0.363636</td>\n",
              "      <td>0.307692</td>\n",
              "      <td>0.826087</td>\n",
              "      <td>0.116571</td>\n",
              "      <td>0.000267</td>\n",
              "    </tr>\n",
              "    <tr>\n",
              "      <th>2023-01-01</th>\n",
              "      <td>0.0</td>\n",
              "      <td>0.0</td>\n",
              "      <td>0.363636</td>\n",
              "      <td>0.307692</td>\n",
              "      <td>0.869565</td>\n",
              "      <td>0.110846</td>\n",
              "      <td>0.000117</td>\n",
              "    </tr>\n",
              "    <tr>\n",
              "      <th>2023-01-01</th>\n",
              "      <td>0.0</td>\n",
              "      <td>0.0</td>\n",
              "      <td>0.727273</td>\n",
              "      <td>0.615385</td>\n",
              "      <td>0.000000</td>\n",
              "      <td>0.100953</td>\n",
              "      <td>0.003960</td>\n",
              "    </tr>\n",
              "    <tr>\n",
              "      <th>2023-01-01</th>\n",
              "      <td>0.0</td>\n",
              "      <td>0.0</td>\n",
              "      <td>0.727273</td>\n",
              "      <td>0.615385</td>\n",
              "      <td>0.043478</td>\n",
              "      <td>0.116742</td>\n",
              "      <td>0.004558</td>\n",
              "    </tr>\n",
              "  </tbody>\n",
              "</table>\n",
              "</div>\n",
              "      <button class=\"colab-df-convert\" onclick=\"convertToInteractive('df-241e21c2-0945-4677-85c3-7b287fb61a0e')\"\n",
              "              title=\"Convert this dataframe to an interactive table.\"\n",
              "              style=\"display:none;\">\n",
              "        \n",
              "  <svg xmlns=\"http://www.w3.org/2000/svg\" height=\"24px\"viewBox=\"0 0 24 24\"\n",
              "       width=\"24px\">\n",
              "    <path d=\"M0 0h24v24H0V0z\" fill=\"none\"/>\n",
              "    <path d=\"M18.56 5.44l.94 2.06.94-2.06 2.06-.94-2.06-.94-.94-2.06-.94 2.06-2.06.94zm-11 1L8.5 8.5l.94-2.06 2.06-.94-2.06-.94L8.5 2.5l-.94 2.06-2.06.94zm10 10l.94 2.06.94-2.06 2.06-.94-2.06-.94-.94-2.06-.94 2.06-2.06.94z\"/><path d=\"M17.41 7.96l-1.37-1.37c-.4-.4-.92-.59-1.43-.59-.52 0-1.04.2-1.43.59L10.3 9.45l-7.72 7.72c-.78.78-.78 2.05 0 2.83L4 21.41c.39.39.9.59 1.41.59.51 0 1.02-.2 1.41-.59l7.78-7.78 2.81-2.81c.8-.78.8-2.07 0-2.86zM5.41 20L4 18.59l7.72-7.72 1.47 1.35L5.41 20z\"/>\n",
              "  </svg>\n",
              "      </button>\n",
              "      \n",
              "  <style>\n",
              "    .colab-df-container {\n",
              "      display:flex;\n",
              "      flex-wrap:wrap;\n",
              "      gap: 12px;\n",
              "    }\n",
              "\n",
              "    .colab-df-convert {\n",
              "      background-color: #E8F0FE;\n",
              "      border: none;\n",
              "      border-radius: 50%;\n",
              "      cursor: pointer;\n",
              "      display: none;\n",
              "      fill: #1967D2;\n",
              "      height: 32px;\n",
              "      padding: 0 0 0 0;\n",
              "      width: 32px;\n",
              "    }\n",
              "\n",
              "    .colab-df-convert:hover {\n",
              "      background-color: #E2EBFA;\n",
              "      box-shadow: 0px 1px 2px rgba(60, 64, 67, 0.3), 0px 1px 3px 1px rgba(60, 64, 67, 0.15);\n",
              "      fill: #174EA6;\n",
              "    }\n",
              "\n",
              "    [theme=dark] .colab-df-convert {\n",
              "      background-color: #3B4455;\n",
              "      fill: #D2E3FC;\n",
              "    }\n",
              "\n",
              "    [theme=dark] .colab-df-convert:hover {\n",
              "      background-color: #434B5C;\n",
              "      box-shadow: 0px 1px 3px 1px rgba(0, 0, 0, 0.15);\n",
              "      filter: drop-shadow(0px 1px 2px rgba(0, 0, 0, 0.3));\n",
              "      fill: #FFFFFF;\n",
              "    }\n",
              "  </style>\n",
              "\n",
              "      <script>\n",
              "        const buttonEl =\n",
              "          document.querySelector('#df-241e21c2-0945-4677-85c3-7b287fb61a0e button.colab-df-convert');\n",
              "        buttonEl.style.display =\n",
              "          google.colab.kernel.accessAllowed ? 'block' : 'none';\n",
              "\n",
              "        async function convertToInteractive(key) {\n",
              "          const element = document.querySelector('#df-241e21c2-0945-4677-85c3-7b287fb61a0e');\n",
              "          const dataTable =\n",
              "            await google.colab.kernel.invokeFunction('convertToInteractive',\n",
              "                                                     [key], {});\n",
              "          if (!dataTable) return;\n",
              "\n",
              "          const docLinkHtml = 'Like what you see? Visit the ' +\n",
              "            '<a target=\"_blank\" href=https://colab.research.google.com/notebooks/data_table.ipynb>data table notebook</a>'\n",
              "            + ' to learn more about interactive tables.';\n",
              "          element.innerHTML = '';\n",
              "          dataTable['output_type'] = 'display_data';\n",
              "          await google.colab.output.renderOutput(dataTable, element);\n",
              "          const docLink = document.createElement('div');\n",
              "          docLink.innerHTML = docLinkHtml;\n",
              "          element.appendChild(docLink);\n",
              "        }\n",
              "      </script>\n",
              "    </div>\n",
              "  </div>\n",
              "  "
            ]
          },
          "metadata": {},
          "execution_count": 23
        }
      ]
    },
    {
      "cell_type": "markdown",
      "source": [
        "#Corelation Matrix"
      ],
      "metadata": {
        "id": "C2ak7P6Mo0aT"
      }
    },
    {
      "cell_type": "code",
      "source": [
        "# prints data that will be plotted columns shown here are selected by corr() since they are ideal for the plot\n",
        "print(df.corr())"
      ],
      "metadata": {
        "colab": {
          "base_uri": "https://localhost:8080/"
        },
        "id": "r6MRVREco_so",
        "outputId": "9d339c8d-5e63-4861-eb66-3f461ec86771"
      },
      "execution_count": null,
      "outputs": [
        {
          "output_type": "stream",
          "name": "stdout",
          "text": [
            "                  TARGET  SIDE_DESCR  ASSET_DESCR  CLASSIFICATION      SORT  \\\n",
            "TARGET          1.000000    0.097956    -0.129744       -0.438500  0.011788   \n",
            "SIDE_DESCR      0.097956    1.000000     0.196798        0.080104  0.000322   \n",
            "ASSET_DESCR    -0.129744    0.196798     1.000000        0.299290  0.016505   \n",
            "CLASSIFICATION -0.438500    0.080104     0.299290        1.000000  0.034682   \n",
            "SORT            0.011788    0.000322     0.016505        0.034682  1.000000   \n",
            "MCP             0.058534    0.068987    -0.013905       -0.059519  0.154524   \n",
            "TOTAL_TRADES    0.401231   -0.034544     0.051796        0.124976  0.008409   \n",
            "\n",
            "                     MCP  TOTAL_TRADES  \n",
            "TARGET          0.058534      0.401231  \n",
            "SIDE_DESCR      0.068987     -0.034544  \n",
            "ASSET_DESCR    -0.013905      0.051796  \n",
            "CLASSIFICATION -0.059519      0.124976  \n",
            "SORT            0.154524      0.008409  \n",
            "MCP             1.000000      0.059650  \n",
            "TOTAL_TRADES    0.059650      1.000000  \n"
          ]
        }
      ]
    },
    {
      "cell_type": "code",
      "source": [
        "# plotting correlation heatmap\n",
        "dataplot = sns.heatmap(df.corr(), annot=True)\n",
        "\n",
        "# displaying heatmap\n",
        "plt.figure(figsize=(25,25))\n",
        "plt.show()"
      ],
      "metadata": {
        "colab": {
          "base_uri": "https://localhost:8080/"
        },
        "id": "1_4XXGpsqas7",
        "outputId": "263165eb-6e2c-4463-b800-599c8a007ddd"
      },
      "execution_count": null,
      "outputs": [
        {
          "output_type": "display_data",
          "data": {
            "text/plain": [
              "<Figure size 800x600 with 2 Axes>"
            ],
            "image/png": "[encoded data removed]"
          },
          "metadata": {}
        },
        {
          "output_type": "display_data",
          "data": {
            "text/plain": [
              "<Figure size 2500x2500 with 0 Axes>"
            ]
          },
          "metadata": {}
        }
      ]
    },
    {
      "cell_type": "markdown",
      "source": [
        "We do not have really strong relation between the data, except the TOTAL_TRADES and the TARGET column"
      ],
      "metadata": {
        "id": "LdzRK3-oU1HH"
      }
    },
    {
      "cell_type": "markdown",
      "source": [
        "#Create New dataframe with only the MCP column"
      ],
      "metadata": {
        "id": "551_SKoUcz0V"
      }
    },
    {
      "cell_type": "code",
      "source": [
        "prices = pd.DataFrame(df[\"MCP\"]).rename(columns={\"MCP\": \"Price\"})"
      ],
      "metadata": {
        "id": "lcj0xVssVPMn"
      },
      "execution_count": null,
      "outputs": []
    },
    {
      "cell_type": "code",
      "source": [
        "prices.head()"
      ],
      "metadata": {
        "colab": {
          "base_uri": "https://localhost:8080/",
          "height": 238
        },
        "id": "LA1wIonQXH6-",
        "outputId": "fb02f64b-ca68-488c-8339-475b2805a6b7"
      },
      "execution_count": null,
      "outputs": [
        {
          "output_type": "execute_result",
          "data": {
            "text/plain": [
              "               Price\n",
              "DDAY                \n",
              "2023-01-01  0.100953\n",
              "2023-01-01  0.116571\n",
              "2023-01-01  0.110846\n",
              "2023-01-01  0.100953\n",
              "2023-01-01  0.116742"
            ],
            "text/html": [
              "\n",
              "  <div id=\"df-0316324f-af45-443a-b7cd-072ddc57012c\">\n",
              "    <div class=\"colab-df-container\">\n",
              "      <div>\n",
              "<style scoped>\n",
              "    .dataframe tbody tr th:only-of-type {\n",
              "        vertical-align: middle;\n",
              "    }\n",
              "\n",
              "    .dataframe tbody tr th {\n",
              "        vertical-align: top;\n",
              "    }\n",
              "\n",
              "    .dataframe thead th {\n",
              "        text-align: right;\n",
              "    }\n",
              "</style>\n",
              "<table border=\"1\" class=\"dataframe\">\n",
              "  <thead>\n",
              "    <tr style=\"text-align: right;\">\n",
              "      <th></th>\n",
              "      <th>Price</th>\n",
              "    </tr>\n",
              "    <tr>\n",
              "      <th>DDAY</th>\n",
              "      <th></th>\n",
              "    </tr>\n",
              "  </thead>\n",
              "  <tbody>\n",
              "    <tr>\n",
              "      <th>2023-01-01</th>\n",
              "      <td>0.100953</td>\n",
              "    </tr>\n",
              "    <tr>\n",
              "      <th>2023-01-01</th>\n",
              "      <td>0.116571</td>\n",
              "    </tr>\n",
              "    <tr>\n",
              "      <th>2023-01-01</th>\n",
              "      <td>0.110846</td>\n",
              "    </tr>\n",
              "    <tr>\n",
              "      <th>2023-01-01</th>\n",
              "      <td>0.100953</td>\n",
              "    </tr>\n",
              "    <tr>\n",
              "      <th>2023-01-01</th>\n",
              "      <td>0.116742</td>\n",
              "    </tr>\n",
              "  </tbody>\n",
              "</table>\n",
              "</div>\n",
              "      <button class=\"colab-df-convert\" onclick=\"convertToInteractive('df-0316324f-af45-443a-b7cd-072ddc57012c')\"\n",
              "              title=\"Convert this dataframe to an interactive table.\"\n",
              "              style=\"display:none;\">\n",
              "        \n",
              "  <svg xmlns=\"http://www.w3.org/2000/svg\" height=\"24px\"viewBox=\"0 0 24 24\"\n",
              "       width=\"24px\">\n",
              "    <path d=\"M0 0h24v24H0V0z\" fill=\"none\"/>\n",
              "    <path d=\"M18.56 5.44l.94 2.06.94-2.06 2.06-.94-2.06-.94-.94-2.06-.94 2.06-2.06.94zm-11 1L8.5 8.5l.94-2.06 2.06-.94-2.06-.94L8.5 2.5l-.94 2.06-2.06.94zm10 10l.94 2.06.94-2.06 2.06-.94-2.06-.94-.94-2.06-.94 2.06-2.06.94z\"/><path d=\"M17.41 7.96l-1.37-1.37c-.4-.4-.92-.59-1.43-.59-.52 0-1.04.2-1.43.59L10.3 9.45l-7.72 7.72c-.78.78-.78 2.05 0 2.83L4 21.41c.39.39.9.59 1.41.59.51 0 1.02-.2 1.41-.59l7.78-7.78 2.81-2.81c.8-.78.8-2.07 0-2.86zM5.41 20L4 18.59l7.72-7.72 1.47 1.35L5.41 20z\"/>\n",
              "  </svg>\n",
              "      </button>\n",
              "      \n",
              "  <style>\n",
              "    .colab-df-container {\n",
              "      display:flex;\n",
              "      flex-wrap:wrap;\n",
              "      gap: 12px;\n",
              "    }\n",
              "\n",
              "    .colab-df-convert {\n",
              "      background-color: #E8F0FE;\n",
              "      border: none;\n",
              "      border-radius: 50%;\n",
              "      cursor: pointer;\n",
              "      display: none;\n",
              "      fill: #1967D2;\n",
              "      height: 32px;\n",
              "      padding: 0 0 0 0;\n",
              "      width: 32px;\n",
              "    }\n",
              "\n",
              "    .colab-df-convert:hover {\n",
              "      background-color: #E2EBFA;\n",
              "      box-shadow: 0px 1px 2px rgba(60, 64, 67, 0.3), 0px 1px 3px 1px rgba(60, 64, 67, 0.15);\n",
              "      fill: #174EA6;\n",
              "    }\n",
              "\n",
              "    [theme=dark] .colab-df-convert {\n",
              "      background-color: #3B4455;\n",
              "      fill: #D2E3FC;\n",
              "    }\n",
              "\n",
              "    [theme=dark] .colab-df-convert:hover {\n",
              "      background-color: #434B5C;\n",
              "      box-shadow: 0px 1px 3px 1px rgba(0, 0, 0, 0.15);\n",
              "      filter: drop-shadow(0px 1px 2px rgba(0, 0, 0, 0.3));\n",
              "      fill: #FFFFFF;\n",
              "    }\n",
              "  </style>\n",
              "\n",
              "      <script>\n",
              "        const buttonEl =\n",
              "          document.querySelector('#df-0316324f-af45-443a-b7cd-072ddc57012c button.colab-df-convert');\n",
              "        buttonEl.style.display =\n",
              "          google.colab.kernel.accessAllowed ? 'block' : 'none';\n",
              "\n",
              "        async function convertToInteractive(key) {\n",
              "          const element = document.querySelector('#df-0316324f-af45-443a-b7cd-072ddc57012c');\n",
              "          const dataTable =\n",
              "            await google.colab.kernel.invokeFunction('convertToInteractive',\n",
              "                                                     [key], {});\n",
              "          if (!dataTable) return;\n",
              "\n",
              "          const docLinkHtml = 'Like what you see? Visit the ' +\n",
              "            '<a target=\"_blank\" href=https://colab.research.google.com/notebooks/data_table.ipynb>data table notebook</a>'\n",
              "            + ' to learn more about interactive tables.';\n",
              "          element.innerHTML = '';\n",
              "          dataTable['output_type'] = 'display_data';\n",
              "          await google.colab.output.renderOutput(dataTable, element);\n",
              "          const docLink = document.createElement('div');\n",
              "          docLink.innerHTML = docLinkHtml;\n",
              "          element.appendChild(docLink);\n",
              "        }\n",
              "      </script>\n",
              "    </div>\n",
              "  </div>\n",
              "  "
            ]
          },
          "metadata": {},
          "execution_count": 29
        }
      ]
    },
    {
      "cell_type": "code",
      "source": [
        "prices['Price'].plot(figsize=(10, 7))\n",
        "plt.ylabel(\"MCP Value\")\n",
        "plt.title(\"Scaled MCP Values\", fontsize=16)\n",
        "plt.legend(fontsize=14);"
      ],
      "metadata": {
        "colab": {
          "base_uri": "https://localhost:8080/",
          "height": 607
        },
        "id": "EJegOO0jVczh",
        "outputId": "40affe72-3174-435e-aa4c-b9d17da5cc48"
      },
      "execution_count": null,
      "outputs": [
        {
          "output_type": "display_data",
          "data": {
            "text/plain": [
              "<Figure size 1000x700 with 1 Axes>"
            ],
            "image/png": "[encoded data removed]"
          },
          "metadata": {}
        }
      ]
    },
    {
      "cell_type": "markdown",
      "source": [
        "#Find Rolling Average for capturing trends and patterns in the data"
      ],
      "metadata": {
        "id": "XkVBQ1T49IGC"
      }
    },
    {
      "cell_type": "code",
      "source": [
        "# Define the window size for the rolling average\n",
        "window_size = 7\n",
        "\n",
        "# Calculate the rolling average using the rolling() function\n",
        "rolling_average = prices['Price'].rolling(window=window_size).mean()\n",
        "\n",
        "# The 'rolling_average' Series will now contain the moving average values\n",
        "print(rolling_average)"
      ],
      "metadata": {
        "colab": {
          "base_uri": "https://localhost:8080/"
        },
        "id": "YJuGixNx9JIu",
        "outputId": "3d4dfe78-fb35-4c52-abf3-4a61cc2b7153"
      },
      "execution_count": null,
      "outputs": [
        {
          "output_type": "stream",
          "name": "stdout",
          "text": [
            "DDAY\n",
            "2023-01-01         NaN\n",
            "2023-01-01         NaN\n",
            "2023-01-01         NaN\n",
            "2023-01-01         NaN\n",
            "2023-01-01         NaN\n",
            "                ...   \n",
            "2023-07-02    0.045674\n",
            "2023-07-02    0.050874\n",
            "2023-07-02    0.056154\n",
            "2023-07-02    0.060972\n",
            "2023-07-02    0.064444\n",
            "Name: Price, Length: 133457, dtype: float64\n"
          ]
        }
      ]
    },
    {
      "cell_type": "code",
      "source": [
        "rolling_average = prices['Price'].rolling(window=window_size, center=True).mean()\n",
        "print(rolling_average)"
      ],
      "metadata": {
        "colab": {
          "base_uri": "https://localhost:8080/"
        },
        "id": "ZHMWIqw09Zu-",
        "outputId": "ed1225fb-4aa8-4288-e5b9-7313357a699b"
      },
      "execution_count": null,
      "outputs": [
        {
          "output_type": "stream",
          "name": "stdout",
          "text": [
            "DDAY\n",
            "2023-01-01         NaN\n",
            "2023-01-01         NaN\n",
            "2023-01-01         NaN\n",
            "2023-01-01    0.105852\n",
            "2023-01-01    0.106510\n",
            "                ...   \n",
            "2023-07-02    0.060972\n",
            "2023-07-02    0.064444\n",
            "2023-07-02         NaN\n",
            "2023-07-02         NaN\n",
            "2023-07-02         NaN\n",
            "Name: Price, Length: 133457, dtype: float64\n"
          ]
        }
      ]
    },
    {
      "cell_type": "markdown",
      "source": [
        "#VAR (Vector Autoregression) and VECM (Vector Error Correction Model)"
      ],
      "metadata": {
        "id": "UnH9CEJH_en_"
      }
    },
    {
      "cell_type": "code",
      "source": [
        "!pip install pandas numpy statsmodels"
      ],
      "metadata": {
        "colab": {
          "base_uri": "https://localhost:8080/"
        },
        "id": "QvO_YrZG_kKG",
        "outputId": "29fe22bd-1a61-47c0-f658-f07a5d281963"
      },
      "execution_count": null,
      "outputs": [
        {
          "output_type": "stream",
          "name": "stdout",
          "text": [
            "Requirement already satisfied: pandas in /usr/local/lib/python3.10/dist-packages (1.5.3)\n",
            "Requirement already satisfied: numpy in /usr/local/lib/python3.10/dist-packages (1.22.4)\n",
            "Requirement already satisfied: statsmodels in /usr/local/lib/python3.10/dist-packages (0.13.5)\n",
            "Requirement already satisfied: python-dateutil>=2.8.1 in /usr/local/lib/python3.10/dist-packages (from pandas) (2.8.2)\n",
            "Requirement already satisfied: pytz>=2020.1 in /usr/local/lib/python3.10/dist-packages (from pandas) (2022.7.1)\n",
            "Requirement already satisfied: patsy>=0.5.2 in /usr/local/lib/python3.10/dist-packages (from statsmodels) (0.5.3)\n",
            "Requirement already satisfied: packaging>=21.3 in /usr/local/lib/python3.10/dist-packages (from statsmodels) (23.1)\n",
            "Requirement already satisfied: scipy>=1.3 in /usr/local/lib/python3.10/dist-packages (from statsmodels) (1.10.1)\n",
            "Requirement already satisfied: six in /usr/local/lib/python3.10/dist-packages (from patsy>=0.5.2->statsmodels) (1.16.0)\n"
          ]
        }
      ]
    },
    {
      "cell_type": "code",
      "source": [
        "from statsmodels.tsa.api import VAR, VECM"
      ],
      "metadata": {
        "id": "npVMLFiD_kQW"
      },
      "execution_count": null,
      "outputs": []
    },
    {
      "cell_type": "markdown",
      "source": [
        "##VAR Model"
      ],
      "metadata": {
        "id": "zCYNiRa7Bevv"
      }
    },
    {
      "cell_type": "code",
      "source": [
        "# Fit the VAR model\n",
        "model = VAR(df)"
      ],
      "metadata": {
        "colab": {
          "base_uri": "https://localhost:8080/"
        },
        "id": "z0lBmUEY_kS7",
        "outputId": "9d5ba838-a840-4d66-fa09-130f5785197f"
      },
      "execution_count": null,
      "outputs": [
        {
          "output_type": "stream",
          "name": "stderr",
          "text": [
            "/usr/local/lib/python3.10/dist-packages/statsmodels/tsa/base/tsa_model.py:471: ValueWarning: A date index has been provided, but it has no associated frequency information and so will be ignored when e.g. forecasting.\n",
            "  self._init_dates(dates, freq)\n",
            "/usr/local/lib/python3.10/dist-packages/statsmodels/tsa/base/tsa_model.py:471: ValueWarning: A date index has been provided, but it is not monotonic and so will be ignored when e.g. forecasting.\n",
            "  self._init_dates(dates, freq)\n"
          ]
        }
      ]
    },
    {
      "cell_type": "code",
      "source": [
        "#Choose the order of the VAR model (p)\n",
        "#“n” - no deterministic terms\n",
        "order = model.select_order(maxlags=7, trend='n')\n",
        "\n",
        "# Fit the VAR model with the selected order\n",
        "results = model.fit(maxlags=order.aic)"
      ],
      "metadata": {
        "id": "5Zl-fATl_kVm"
      },
      "execution_count": null,
      "outputs": []
    },
    {
      "cell_type": "code",
      "source": [
        "#Print the summary of the VAR model\n",
        "print(results.summary())"
      ],
      "metadata": {
        "colab": {
          "base_uri": "https://localhost:8080/"
        },
        "id": "99wCliq4Avzf",
        "outputId": "d2bb881f-8f2a-4ba3-f80d-d14810a810dc"
      },
      "execution_count": null,
      "outputs": [
        {
          "output_type": "stream",
          "name": "stdout",
          "text": [
            "  Summary of Regression Results   \n",
            "==================================\n",
            "Model:                         VAR\n",
            "Method:                        OLS\n",
            "Date:           Mon, 03, Jul, 2023\n",
            "Time:                     18:28:25\n",
            "--------------------------------------------------------------------\n",
            "No. of Equations:         7.00000    BIC:                   -48.2227\n",
            "Nobs:                     133450.    HQIC:                  -48.2407\n",
            "Log likelihood:       1.89422e+06    FPE:                1.11167e-21\n",
            "AIC:                     -48.2484    Det(Omega_mle):     1.10876e-21\n",
            "--------------------------------------------------------------------\n",
            "Results for equation TARGET\n",
            "====================================================================================\n",
            "                       coefficient       std. error           t-stat            prob\n",
            "------------------------------------------------------------------------------------\n",
            "const                    -0.000044         0.000032           -1.403           0.160\n",
            "L1.TARGET                 0.999938         0.002743          364.491           0.000\n",
            "L1.SIDE_DESCR             0.000006         0.000042            0.143           0.886\n",
            "L1.ASSET_DESCR            0.000008         0.000082            0.093           0.926\n",
            "L1.CLASSIFICATION         0.000024         0.000070            0.335           0.737\n",
            "L1.SORT                   0.000032         0.000023            1.395           0.163\n",
            "L1.MCP                   -0.000000         0.000418           -0.001           1.000\n",
            "L1.TOTAL_TRADES          -0.000004         0.000157           -0.024           0.981\n",
            "L2.TARGET                 0.000030         0.003879            0.008           0.994\n",
            "L2.SIDE_DESCR             0.000001         0.000059            0.009           0.993\n",
            "L2.ASSET_DESCR           -0.000000         0.000114           -0.004           0.997\n",
            "L2.CLASSIFICATION        -0.000001         0.000096           -0.011           0.991\n",
            "L2.SORT                   0.000004         0.000029            0.126           0.899\n",
            "L2.MCP                   -0.000365         0.000520           -0.701           0.483\n",
            "L2.TOTAL_TRADES           0.000009         0.000239            0.038           0.970\n",
            "L3.TARGET                 0.000003         0.003880            0.001           0.999\n",
            "L3.SIDE_DESCR            -0.000001         0.000059           -0.013           0.989\n",
            "L3.ASSET_DESCR            0.000001         0.000114            0.006           0.995\n",
            "L3.CLASSIFICATION         0.000003         0.000096            0.028           0.977\n",
            "L3.SORT                   0.000004         0.000029            0.140           0.889\n",
            "L3.MCP                    0.000215         0.000521            0.413           0.679\n",
            "L3.TOTAL_TRADES          -0.000018         0.000240           -0.076           0.939\n",
            "L4.TARGET                -0.000006         0.003880           -0.001           0.999\n",
            "L4.SIDE_DESCR            -0.000000         0.000059           -0.003           0.998\n",
            "L4.ASSET_DESCR           -0.000000         0.000114           -0.004           0.997\n",
            "L4.CLASSIFICATION         0.000001         0.000096            0.009           0.993\n",
            "L4.SORT                   0.000004         0.000028            0.148           0.882\n",
            "L4.MCP                   -0.000061         0.000521           -0.118           0.906\n",
            "L4.TOTAL_TRADES          -0.000013         0.000240           -0.056           0.956\n",
            "L5.TARGET                -0.000018         0.003880           -0.005           0.996\n",
            "L5.SIDE_DESCR            -0.000001         0.000059           -0.012           0.991\n",
            "L5.ASSET_DESCR            0.000001         0.000114            0.010           0.992\n",
            "L5.CLASSIFICATION         0.000002         0.000096            0.021           0.984\n",
            "L5.SORT                   0.000003         0.000028            0.104           0.917\n",
            "L5.MCP                    0.000278         0.000522            0.532           0.594\n",
            "L5.TOTAL_TRADES           0.000007         0.000240            0.030           0.976\n",
            "L6.TARGET                 0.000034         0.003880            0.009           0.993\n",
            "L6.SIDE_DESCR             0.000001         0.000059            0.012           0.991\n",
            "L6.ASSET_DESCR           -0.000001         0.000114           -0.008           0.993\n",
            "L6.CLASSIFICATION        -0.000000         0.000096           -0.000           1.000\n",
            "L6.SORT                   0.000003         0.000028            0.122           0.903\n",
            "L6.MCP                   -0.000321         0.000521           -0.616           0.538\n",
            "L6.TOTAL_TRADES          -0.000008         0.000239           -0.032           0.974\n",
            "L7.TARGET                 0.000021         0.002743            0.008           0.994\n",
            "L7.SIDE_DESCR             0.000007         0.000042            0.168           0.866\n",
            "L7.ASSET_DESCR            0.000001         0.000082            0.017           0.987\n",
            "L7.CLASSIFICATION         0.000015         0.000070            0.215           0.830\n",
            "L7.SORT                   0.000012         0.000023            0.522           0.601\n",
            "L7.MCP                    0.000009         0.000424            0.021           0.983\n",
            "L7.TOTAL_TRADES          -0.000020         0.000158           -0.124           0.901\n",
            "====================================================================================\n",
            "\n",
            "Results for equation SIDE_DESCR\n",
            "====================================================================================\n",
            "                       coefficient       std. error           t-stat            prob\n",
            "------------------------------------------------------------------------------------\n",
            "const                     0.021359         0.002080           10.271           0.000\n",
            "L1.TARGET                 0.025556         0.180169            0.142           0.887\n",
            "L1.SIDE_DESCR             0.983658         0.002782          353.615           0.000\n",
            "L1.ASSET_DESCR            0.004900         0.005373            0.912           0.362\n",
            "L1.CLASSIFICATION         0.018658         0.004621            4.038           0.000\n",
            "L1.SORT                  -0.010335         0.001509           -6.850           0.000\n",
            "L1.MCP                    0.082540         0.027463            3.005           0.003\n",
            "L1.TOTAL_TRADES          -0.028242         0.010330           -2.734           0.006\n",
            "L2.TARGET                -0.005351         0.254780           -0.021           0.983\n",
            "L2.SIDE_DESCR             0.000606         0.003902            0.155           0.877\n",
            "L2.ASSET_DESCR           -0.000558         0.007471           -0.075           0.940\n",
            "L2.CLASSIFICATION         0.000583         0.006333            0.092           0.927\n",
            "L2.SORT                  -0.003036         0.001876           -1.618           0.106\n",
            "L2.MCP                    0.014590         0.034134            0.427           0.669\n",
            "L2.TOTAL_TRADES           0.003444         0.015706            0.219           0.826\n",
            "L3.TARGET                -0.012269         0.254785           -0.048           0.962\n",
            "L3.SIDE_DESCR             0.000347         0.003902            0.089           0.929\n",
            "L3.ASSET_DESCR            0.000424         0.007471            0.057           0.955\n",
            "L3.CLASSIFICATION        -0.004012         0.006333           -0.634           0.526\n",
            "L3.SORT                  -0.000256         0.001873           -0.137           0.891\n",
            "L3.MCP                    0.031743         0.034198            0.928           0.353\n",
            "L3.TOTAL_TRADES           0.002500         0.015731            0.159           0.874\n",
            "L4.TARGET                 0.027873         0.254789            0.109           0.913\n",
            "L4.SIDE_DESCR             0.000870         0.003902            0.223           0.823\n",
            "L4.ASSET_DESCR           -0.003696         0.007471           -0.495           0.621\n",
            "L4.CLASSIFICATION         0.006451         0.006333            1.019           0.308\n",
            "L4.SORT                  -0.001950         0.001870           -1.043           0.297\n",
            "L4.MCP                   -0.194095         0.034208           -5.674           0.000\n",
            "L4.TOTAL_TRADES          -0.004905         0.015736           -0.312           0.755\n",
            "L5.TARGET                 0.000075         0.254789            0.000           1.000\n",
            "L5.SIDE_DESCR             0.000365         0.003902            0.094           0.925\n",
            "L5.ASSET_DESCR            0.005732         0.007470            0.767           0.443\n",
            "L5.CLASSIFICATION        -0.012228         0.006333           -1.931           0.053\n",
            "L5.SORT                  -0.000120         0.001870           -0.064           0.949\n",
            "L5.MCP                   -0.131576         0.034251           -3.841           0.000\n",
            "L5.TOTAL_TRADES           0.020797         0.015733            1.322           0.186\n",
            "L6.TARGET                 0.007092         0.254788            0.028           0.978\n",
            "L6.SIDE_DESCR            -0.000000         0.003902           -0.000           1.000\n",
            "L6.ASSET_DESCR           -0.006460         0.007470           -0.865           0.387\n",
            "L6.CLASSIFICATION         0.010181         0.006332            1.608           0.108\n",
            "L6.SORT                   0.000076         0.001871            0.041           0.968\n",
            "L6.MCP                    0.013662         0.034231            0.399           0.690\n",
            "L6.TOTAL_TRADES          -0.002341         0.015712           -0.149           0.882\n",
            "L7.TARGET                -0.034929         0.180175           -0.194           0.846\n",
            "L7.SIDE_DESCR            -0.010067         0.002779           -3.622           0.000\n",
            "L7.ASSET_DESCR           -0.003246         0.005358           -0.606           0.545\n",
            "L7.CLASSIFICATION        -0.007235         0.004628           -1.563           0.118\n",
            "L7.SORT                  -0.003653         0.001487           -2.457           0.014\n",
            "L7.MCP                    0.066158         0.027835            2.377           0.017\n",
            "L7.TOTAL_TRADES          -0.000978         0.010345           -0.095           0.925\n",
            "====================================================================================\n",
            "\n",
            "Results for equation ASSET_DESCR\n",
            "====================================================================================\n",
            "                       coefficient       std. error           t-stat            prob\n",
            "------------------------------------------------------------------------------------\n",
            "const                     0.049718         0.001252           39.721           0.000\n",
            "L1.TARGET                -0.027310         0.108444           -0.252           0.801\n",
            "L1.SIDE_DESCR             0.003016         0.001674            1.801           0.072\n",
            "L1.ASSET_DESCR            0.973362         0.003234          300.971           0.000\n",
            "L1.CLASSIFICATION        -0.016938         0.002781           -6.090           0.000\n",
            "L1.SORT                   0.000154         0.000908            0.169           0.866\n",
            "L1.MCP                    0.028407         0.016530            1.718           0.086\n",
            "L1.TOTAL_TRADES           0.024521         0.006218            3.944           0.000\n",
            "L2.TARGET                 0.170685         0.153353            1.113           0.266\n",
            "L2.SIDE_DESCR            -0.001504         0.002349           -0.640           0.522\n",
            "L2.ASSET_DESCR            0.002279         0.004497            0.507           0.612\n",
            "L2.CLASSIFICATION        -0.005088         0.003812           -1.335           0.182\n",
            "L2.SORT                   0.000791         0.001129            0.701           0.483\n",
            "L2.MCP                    0.018782         0.020545            0.914           0.361\n",
            "L2.TOTAL_TRADES           0.006624         0.009454            0.701           0.484\n",
            "L3.TARGET                -0.184752         0.153355           -1.205           0.228\n",
            "L3.SIDE_DESCR            -0.000394         0.002349           -0.168           0.867\n",
            "L3.ASSET_DESCR           -0.002395         0.004497           -0.532           0.594\n",
            "L3.CLASSIFICATION         0.001382         0.003812            0.362           0.717\n",
            "L3.SORT                  -0.000776         0.001127           -0.689           0.491\n",
            "L3.MCP                    0.039616         0.020584            1.925           0.054\n",
            "L3.TOTAL_TRADES          -0.011555         0.009468           -1.220           0.222\n",
            "L4.TARGET                -0.021830         0.153358           -0.142           0.887\n",
            "L4.SIDE_DESCR            -0.003013         0.002348           -1.283           0.199\n",
            "L4.ASSET_DESCR            0.001630         0.004497            0.363           0.717\n",
            "L4.CLASSIFICATION        -0.008393         0.003812           -2.202           0.028\n",
            "L4.SORT                  -0.000406         0.001125           -0.361           0.718\n",
            "L4.MCP                   -0.019796         0.020590           -0.961           0.336\n",
            "L4.TOTAL_TRADES           0.018564         0.009472            1.960           0.050\n",
            "L5.TARGET                 0.025770         0.153358            0.168           0.867\n",
            "L5.SIDE_DESCR             0.002851         0.002348            1.214           0.225\n",
            "L5.ASSET_DESCR           -0.001641         0.004496           -0.365           0.715\n",
            "L5.CLASSIFICATION         0.006381         0.003812            1.674           0.094\n",
            "L5.SORT                  -0.000131         0.001126           -0.117           0.907\n",
            "L5.MCP                   -0.063785         0.020616           -3.094           0.002\n",
            "L5.TOTAL_TRADES          -0.017649         0.009470           -1.864           0.062\n",
            "L6.TARGET                 0.180150         0.153357            1.175           0.240\n",
            "L6.SIDE_DESCR            -0.000182         0.002348           -0.078           0.938\n",
            "L6.ASSET_DESCR            0.000143         0.004496            0.032           0.975\n",
            "L6.CLASSIFICATION        -0.000069         0.003811           -0.018           0.986\n",
            "L6.SORT                   0.000075         0.001126            0.067           0.947\n",
            "L6.MCP                    0.009321         0.020604            0.452           0.651\n",
            "L6.TOTAL_TRADES          -0.005540         0.009457           -0.586           0.558\n",
            "L7.TARGET                -0.158065         0.108448           -1.458           0.145\n",
            "L7.SIDE_DESCR             0.002987         0.001673            1.785           0.074\n",
            "L7.ASSET_DESCR           -0.008428         0.003225           -2.613           0.009\n",
            "L7.CLASSIFICATION        -0.003893         0.002786           -1.397           0.162\n",
            "L7.SORT                  -0.000657         0.000895           -0.734           0.463\n",
            "L7.MCP                   -0.047489         0.016754           -2.835           0.005\n",
            "L7.TOTAL_TRADES           0.022551         0.006227            3.622           0.000\n",
            "====================================================================================\n",
            "\n",
            "Results for equation CLASSIFICATION\n",
            "====================================================================================\n",
            "                       coefficient       std. error           t-stat            prob\n",
            "------------------------------------------------------------------------------------\n",
            "const                     0.043637         0.001448           30.128           0.000\n",
            "L1.TARGET                -0.047871         0.125485           -0.381           0.703\n",
            "L1.SIDE_DESCR             0.007491         0.001937            3.866           0.000\n",
            "L1.ASSET_DESCR            0.019688         0.003742            5.261           0.000\n",
            "L1.CLASSIFICATION         0.925196         0.003218          287.475           0.000\n",
            "L1.SORT                   0.000193         0.001051            0.184           0.854\n",
            "L1.MCP                    0.018331         0.019128            0.958           0.338\n",
            "L1.TOTAL_TRADES           0.020245         0.007195            2.814           0.005\n",
            "L2.TARGET                 0.006787         0.177451            0.038           0.969\n",
            "L2.SIDE_DESCR            -0.001717         0.002718           -0.632           0.527\n",
            "L2.ASSET_DESCR           -0.017148         0.005204           -3.295           0.001\n",
            "L2.CLASSIFICATION         0.018695         0.004411            4.239           0.000\n",
            "L2.SORT                   0.001349         0.001307            1.032           0.302\n",
            "L2.MCP                    0.029834         0.023774            1.255           0.210\n",
            "L2.TOTAL_TRADES          -0.007444         0.010939           -0.680           0.496\n",
            "L3.TARGET                 0.002495         0.177454            0.014           0.989\n",
            "L3.SIDE_DESCR             0.000014         0.002718            0.005           0.996\n",
            "L3.ASSET_DESCR           -0.006214         0.005203           -1.194           0.232\n",
            "L3.CLASSIFICATION         0.010903         0.004411            2.472           0.013\n",
            "L3.SORT                  -0.000201         0.001304           -0.154           0.877\n",
            "L3.MCP                    0.049190         0.023818            2.065           0.039\n",
            "L3.TOTAL_TRADES          -0.011135         0.010956           -1.016           0.309\n",
            "L4.TARGET                -0.024349         0.177457           -0.137           0.891\n",
            "L4.SIDE_DESCR            -0.001272         0.002717           -0.468           0.640\n",
            "L4.ASSET_DESCR            0.002717         0.005203            0.522           0.602\n",
            "L4.CLASSIFICATION        -0.014514         0.004410           -3.291           0.001\n",
            "L4.SORT                  -0.000726         0.001302           -0.558           0.577\n",
            "L4.MCP                   -0.012143         0.023825           -0.510           0.610\n",
            "L4.TOTAL_TRADES           0.024021         0.010960            2.192           0.028\n",
            "L5.TARGET                 0.022492         0.177457            0.127           0.899\n",
            "L5.SIDE_DESCR             0.000990         0.002717            0.364           0.715\n",
            "L5.ASSET_DESCR           -0.004277         0.005203           -0.822           0.411\n",
            "L5.CLASSIFICATION         0.009768         0.004411            2.215           0.027\n",
            "L5.SORT                  -0.000465         0.001302           -0.357           0.721\n",
            "L5.MCP                   -0.056460         0.023856           -2.367           0.018\n",
            "L5.TOTAL_TRADES           0.028358         0.010958            2.588           0.010\n",
            "L6.TARGET                -0.003240         0.177456           -0.018           0.985\n",
            "L6.SIDE_DESCR             0.001568         0.002717            0.577           0.564\n",
            "L6.ASSET_DESCR            0.004346         0.005203            0.835           0.404\n",
            "L6.CLASSIFICATION        -0.005824         0.004410           -1.321           0.187\n",
            "L6.SORT                   0.000872         0.001303            0.669           0.503\n",
            "L6.MCP                    0.019557         0.023841            0.820           0.412\n",
            "L6.TOTAL_TRADES           0.038434         0.010943            3.512           0.000\n",
            "L7.TARGET                 0.020521         0.125489            0.164           0.870\n",
            "L7.SIDE_DESCR            -0.006194         0.001936           -3.200           0.001\n",
            "L7.ASSET_DESCR           -0.003193         0.003732           -0.856           0.392\n",
            "L7.CLASSIFICATION         0.001456         0.003223            0.452           0.652\n",
            "L7.SORT                   0.002346         0.001036            2.266           0.023\n",
            "L7.MCP                   -0.036862         0.019387           -1.901           0.057\n",
            "L7.TOTAL_TRADES          -0.036737         0.007205           -5.099           0.000\n",
            "====================================================================================\n",
            "\n",
            "Results for equation SORT\n",
            "====================================================================================\n",
            "                       coefficient       std. error           t-stat            prob\n",
            "------------------------------------------------------------------------------------\n",
            "const                     0.190260         0.003784           50.286           0.000\n",
            "L1.TARGET                -0.026986         0.327806           -0.082           0.934\n",
            "L1.SIDE_DESCR            -0.030452         0.005061           -6.017           0.000\n",
            "L1.ASSET_DESCR           -0.003793         0.009776           -0.388           0.698\n",
            "L1.CLASSIFICATION         0.006375         0.008407            0.758           0.448\n",
            "L1.SORT                   0.738555         0.002745          269.038           0.000\n",
            "L1.MCP                    1.308917         0.049967           26.196           0.000\n",
            "L1.TOTAL_TRADES           0.007635         0.018795            0.406           0.685\n",
            "L2.TARGET                -0.540886         0.463556           -1.167           0.243\n",
            "L2.SIDE_DESCR            -0.001215         0.007100           -0.171           0.864\n",
            "L2.ASSET_DESCR            0.003229         0.013593            0.238           0.812\n",
            "L2.CLASSIFICATION         0.013567         0.011522            1.178           0.239\n",
            "L2.SORT                  -0.004757         0.003414           -1.393           0.164\n",
            "L2.MCP                    0.415482         0.062105            6.690           0.000\n",
            "L2.TOTAL_TRADES           0.018782         0.028577            0.657           0.511\n",
            "L3.TARGET                 0.427006         0.463564            0.921           0.357\n",
            "L3.SIDE_DESCR             0.001991         0.007099            0.280           0.779\n",
            "L3.ASSET_DESCR            0.013595         0.013593            1.000           0.317\n",
            "L3.CLASSIFICATION         0.004764         0.011522            0.413           0.679\n",
            "L3.SORT                  -0.014447         0.003407           -4.240           0.000\n",
            "L3.MCP                    0.649543         0.062220           10.439           0.000\n",
            "L3.TOTAL_TRADES           0.103856         0.028621            3.629           0.000\n",
            "L4.TARGET                 0.201380         0.463571            0.434           0.664\n",
            "L4.SIDE_DESCR             0.003626         0.007099            0.511           0.610\n",
            "L4.ASSET_DESCR           -0.006142         0.013593           -0.452           0.651\n",
            "L4.CLASSIFICATION         0.012887         0.011522            1.119           0.263\n",
            "L4.SORT                  -0.000256         0.003402           -0.075           0.940\n",
            "L4.MCP                   -1.183898         0.062238          -19.022           0.000\n",
            "L4.TOTAL_TRADES          -0.085794         0.028631           -2.997           0.003\n",
            "L5.TARGET                 0.121396         0.463571            0.262           0.793\n",
            "L5.SIDE_DESCR             0.006430         0.007099            0.906           0.365\n",
            "L5.ASSET_DESCR           -0.009591         0.013592           -0.706           0.480\n",
            "L5.CLASSIFICATION        -0.010195         0.011522           -0.885           0.376\n",
            "L5.SORT                  -0.008725         0.003402           -2.564           0.010\n",
            "L5.MCP                   -1.282676         0.062318          -20.583           0.000\n",
            "L5.TOTAL_TRADES          -0.096567         0.028625           -3.374           0.001\n",
            "L6.TARGET                -0.002276         0.463570           -0.005           0.996\n",
            "L6.SIDE_DESCR            -0.002643         0.007099           -0.372           0.710\n",
            "L6.ASSET_DESCR            0.008311         0.013591            0.611           0.541\n",
            "L6.CLASSIFICATION        -0.011255         0.011521           -0.977           0.329\n",
            "L6.SORT                  -0.007388         0.003404           -2.171           0.030\n",
            "L6.MCP                    0.042178         0.062280            0.677           0.498\n",
            "L6.TOTAL_TRADES           0.013500         0.028588            0.472           0.637\n",
            "L7.TARGET                -0.152576         0.327816           -0.465           0.642\n",
            "L7.SIDE_DESCR             0.017217         0.005057            3.405           0.001\n",
            "L7.ASSET_DESCR           -0.000380         0.009749           -0.039           0.969\n",
            "L7.CLASSIFICATION         0.031640         0.008420            3.758           0.000\n",
            "L7.SORT                  -0.065485         0.002705          -24.208           0.000\n",
            "L7.MCP                   -0.574562         0.050644          -11.345           0.000\n",
            "L7.TOTAL_TRADES          -0.021087         0.018822           -1.120           0.263\n",
            "====================================================================================\n",
            "\n",
            "Results for equation MCP\n",
            "====================================================================================\n",
            "                       coefficient       std. error           t-stat            prob\n",
            "------------------------------------------------------------------------------------\n",
            "const                     0.008907         0.000207           43.053           0.000\n",
            "L1.TARGET                 0.025241         0.017924            1.408           0.159\n",
            "L1.SIDE_DESCR             0.000325         0.000277            1.174           0.241\n",
            "L1.ASSET_DESCR            0.001408         0.000535            2.634           0.008\n",
            "L1.CLASSIFICATION        -0.003002         0.000460           -6.531           0.000\n",
            "L1.SORT                   0.003250         0.000150           21.652           0.000\n",
            "L1.MCP                    0.735490         0.002732          269.201           0.000\n",
            "L1.TOTAL_TRADES           0.007333         0.001028            7.136           0.000\n",
            "L2.TARGET                -0.025998         0.025346           -1.026           0.305\n",
            "L2.SIDE_DESCR            -0.000117         0.000388           -0.300           0.764\n",
            "L2.ASSET_DESCR           -0.000828         0.000743           -1.114           0.265\n",
            "L2.CLASSIFICATION         0.001371         0.000630            2.177           0.029\n",
            "L2.SORT                   0.001024         0.000187            5.488           0.000\n",
            "L2.MCP                    0.082690         0.003396           24.351           0.000\n",
            "L2.TOTAL_TRADES          -0.006171         0.001563           -3.950           0.000\n",
            "L3.TARGET                 0.023685         0.025347            0.934           0.350\n",
            "L3.SIDE_DESCR             0.000676         0.000388            1.741           0.082\n",
            "L3.ASSET_DESCR            0.000058         0.000743            0.078           0.938\n",
            "L3.CLASSIFICATION         0.000997         0.000630            1.583           0.113\n",
            "L3.SORT                  -0.000526         0.000186           -2.824           0.005\n",
            "L3.MCP                   -0.025921         0.003402           -7.619           0.000\n",
            "L3.TOTAL_TRADES          -0.004041         0.001565           -2.582           0.010\n",
            "L4.TARGET                 0.007410         0.025347            0.292           0.770\n",
            "L4.SIDE_DESCR             0.000309         0.000388            0.795           0.427\n",
            "L4.ASSET_DESCR           -0.001031         0.000743           -1.387           0.165\n",
            "L4.CLASSIFICATION         0.001122         0.000630            1.781           0.075\n",
            "L4.SORT                  -0.002530         0.000186          -13.603           0.000\n",
            "L4.MCP                   -0.015502         0.003403           -4.555           0.000\n",
            "L4.TOTAL_TRADES          -0.000958         0.001565           -0.612           0.540\n",
            "L5.TARGET                -0.010060         0.025347           -0.397           0.691\n",
            "L5.SIDE_DESCR             0.000713         0.000388            1.836           0.066\n",
            "L5.ASSET_DESCR           -0.001209         0.000743           -1.627           0.104\n",
            "L5.CLASSIFICATION         0.001124         0.000630            1.784           0.074\n",
            "L5.SORT                  -0.002146         0.000186          -11.533           0.000\n",
            "L5.MCP                   -0.020430         0.003407           -5.996           0.000\n",
            "L5.TOTAL_TRADES           0.002647         0.001565            1.691           0.091\n",
            "L6.TARGET                 0.012579         0.025347            0.496           0.620\n",
            "L6.SIDE_DESCR            -0.000597         0.000388           -1.539           0.124\n",
            "L6.ASSET_DESCR            0.000331         0.000743            0.445           0.656\n",
            "L6.CLASSIFICATION        -0.000808         0.000630           -1.283           0.200\n",
            "L6.SORT                  -0.000697         0.000186           -3.747           0.000\n",
            "L6.MCP                    0.007147         0.003405            2.099           0.036\n",
            "L6.TOTAL_TRADES           0.001830         0.001563            1.171           0.242\n",
            "L7.TARGET                -0.033366         0.017924           -1.861           0.063\n",
            "L7.SIDE_DESCR            -0.000749         0.000276           -2.710           0.007\n",
            "L7.ASSET_DESCR            0.001009         0.000533            1.893           0.058\n",
            "L7.CLASSIFICATION        -0.002088         0.000460           -4.535           0.000\n",
            "L7.SORT                   0.003640         0.000148           24.607           0.000\n",
            "L7.MCP                    0.107222         0.002769           38.721           0.000\n",
            "L7.TOTAL_TRADES           0.002503         0.001029            2.432           0.015\n",
            "====================================================================================\n",
            "\n",
            "Results for equation TOTAL_TRADES\n",
            "====================================================================================\n",
            "                       coefficient       std. error           t-stat            prob\n",
            "------------------------------------------------------------------------------------\n",
            "const                    -0.003644         0.000555           -6.564           0.000\n",
            "L1.TARGET                -0.017997         0.048095           -0.374           0.708\n",
            "L1.SIDE_DESCR            -0.001121         0.000743           -1.510           0.131\n",
            "L1.ASSET_DESCR            0.009862         0.001434            6.876           0.000\n",
            "L1.CLASSIFICATION        -0.005812         0.001233           -4.712           0.000\n",
            "L1.SORT                  -0.004596         0.000403          -11.412           0.000\n",
            "L1.MCP                    0.043346         0.007331            5.913           0.000\n",
            "L1.TOTAL_TRADES           1.146176         0.002757          415.659           0.000\n",
            "L2.TARGET                 0.059502         0.068011            0.875           0.382\n",
            "L2.SIDE_DESCR            -0.000562         0.001042           -0.540           0.589\n",
            "L2.ASSET_DESCR           -0.003445         0.001994           -1.727           0.084\n",
            "L2.CLASSIFICATION         0.004372         0.001690            2.587           0.010\n",
            "L2.SORT                   0.000219         0.000501            0.438           0.662\n",
            "L2.MCP                   -0.012113         0.009112           -1.329           0.184\n",
            "L2.TOTAL_TRADES          -0.088660         0.004193          -21.146           0.000\n",
            "L3.TARGET                -0.044016         0.068013           -0.647           0.518\n",
            "L3.SIDE_DESCR            -0.000400         0.001042           -0.384           0.701\n",
            "L3.ASSET_DESCR           -0.003692         0.001994           -1.852           0.064\n",
            "L3.CLASSIFICATION         0.005083         0.001690            3.007           0.003\n",
            "L3.SORT                  -0.000104         0.000500           -0.209           0.835\n",
            "L3.MCP                   -0.005275         0.009129           -0.578           0.563\n",
            "L3.TOTAL_TRADES          -0.066579         0.004199          -15.855           0.000\n",
            "L4.TARGET                 0.001545         0.068014            0.023           0.982\n",
            "L4.SIDE_DESCR             0.000310         0.001041            0.298           0.766\n",
            "L4.ASSET_DESCR           -0.001125         0.001994           -0.564           0.573\n",
            "L4.CLASSIFICATION         0.003187         0.001690            1.885           0.059\n",
            "L4.SORT                  -0.001104         0.000499           -2.211           0.027\n",
            "L4.MCP                   -0.016091         0.009131           -1.762           0.078\n",
            "L4.TOTAL_TRADES          -0.055671         0.004201          -13.253           0.000\n",
            "L5.TARGET                -0.039675         0.068014           -0.583           0.560\n",
            "L5.SIDE_DESCR            -0.000538         0.001041           -0.517           0.605\n",
            "L5.ASSET_DESCR           -0.001163         0.001994           -0.583           0.560\n",
            "L5.CLASSIFICATION         0.000745         0.001690            0.441           0.659\n",
            "L5.SORT                  -0.001846         0.000499           -3.697           0.000\n",
            "L5.MCP                   -0.010903         0.009143           -1.193           0.233\n",
            "L5.TOTAL_TRADES          -0.023972         0.004200           -5.708           0.000\n",
            "L6.TARGET                 0.057146         0.068013            0.840           0.401\n",
            "L6.SIDE_DESCR             0.000972         0.001041            0.933           0.351\n",
            "L6.ASSET_DESCR           -0.002381         0.001994           -1.194           0.233\n",
            "L6.CLASSIFICATION         0.003502         0.001690            2.072           0.038\n",
            "L6.SORT                  -0.002620         0.000499           -5.246           0.000\n",
            "L6.MCP                    0.002446         0.009138            0.268           0.789\n",
            "L6.TOTAL_TRADES           0.015958         0.004194            3.805           0.000\n",
            "L7.TARGET                -0.007039         0.048096           -0.146           0.884\n",
            "L7.SIDE_DESCR            -0.000700         0.000742           -0.944           0.345\n",
            "L7.ASSET_DESCR            0.004455         0.001430            3.115           0.002\n",
            "L7.CLASSIFICATION        -0.003416         0.001235           -2.765           0.006\n",
            "L7.SORT                  -0.000109         0.000397           -0.274           0.784\n",
            "L7.MCP                    0.011433         0.007430            1.539           0.124\n",
            "L7.TOTAL_TRADES           0.016484         0.002762            5.969           0.000\n",
            "====================================================================================\n",
            "\n",
            "Correlation matrix of residuals\n",
            "                    TARGET  SIDE_DESCR  ASSET_DESCR  CLASSIFICATION      SORT       MCP  TOTAL_TRADES\n",
            "TARGET            1.000000   -0.044913    -0.035831       -0.042582 -0.008601  0.014947      0.000782\n",
            "SIDE_DESCR       -0.044913    1.000000     0.164021        0.072288  0.041007  0.029672     -0.020155\n",
            "ASSET_DESCR      -0.035831    0.164021     1.000000        0.514451 -0.000425 -0.022722     -0.008357\n",
            "CLASSIFICATION   -0.042582    0.072288     0.514451        1.000000 -0.031760 -0.045524      0.093011\n",
            "SORT             -0.008601    0.041007    -0.000425       -0.031760  1.000000  0.100750     -0.010488\n",
            "MCP               0.014947    0.029672    -0.022722       -0.045524  0.100750  1.000000      0.030021\n",
            "TOTAL_TRADES      0.000782   -0.020155    -0.008357        0.093011 -0.010488  0.030021      1.000000\n",
            "\n",
            "\n",
            "\n"
          ]
        }
      ]
    },
    {
      "cell_type": "code",
      "source": [
        "# Print the lag order of the VAR model\n",
        "print(\"Lag Order:\", results.k_ar)"
      ],
      "metadata": {
        "colab": {
          "base_uri": "https://localhost:8080/"
        },
        "id": "3nOhdKjKBEQH",
        "outputId": "25810714-35e2-4c5a-878c-cf9797d8ade6"
      },
      "execution_count": null,
      "outputs": [
        {
          "output_type": "stream",
          "name": "stdout",
          "text": [
            "Lag Order: 7\n"
          ]
        }
      ]
    },
    {
      "cell_type": "code",
      "source": [
        "#Perform Granger causality tests to determine causal relationships between variables\n",
        "granger_test = results.test_causality('MCP', 'TARGET', kind='f')\n",
        "print(granger_test.summary())"
      ],
      "metadata": {
        "colab": {
          "base_uri": "https://localhost:8080/"
        },
        "id": "1lcjRE_CBETJ",
        "outputId": "a13588d7-366e-43dc-e004-f56a0b034cbe"
      },
      "execution_count": null,
      "outputs": [
        {
          "output_type": "stream",
          "name": "stdout",
          "text": [
            "Granger causality F-test. H_0: TARGET does not Granger-cause MCP. Conclusion: reject H_0 at 5% significance level.\n",
            "=================================================\n",
            "Test statistic Critical value p-value      df    \n",
            "-------------------------------------------------\n",
            "         5.375          2.010   0.000 (7, 933800)\n",
            "-------------------------------------------------\n"
          ]
        }
      ]
    },
    {
      "cell_type": "markdown",
      "source": [
        "##VECM Model"
      ],
      "metadata": {
        "id": "Ehdv52RrCqoo"
      }
    },
    {
      "cell_type": "code",
      "source": [
        "# Fit the VECM model\n",
        "model_vecm = VECM(df, k_ar_diff=order.aic)  # Use the same order selected for VAR\n",
        "results_vecm = model_vecm.fit()"
      ],
      "metadata": {
        "colab": {
          "base_uri": "https://localhost:8080/",
          "height": 200
        },
        "id": "Adyjr29pBEVp",
        "outputId": "f80c8323-c4d8-49df-a579-a482e8885d21"
      },
      "execution_count": null,
      "outputs": [
        {
          "output_type": "error",
          "ename": "NameError",
          "evalue": "ignored",
          "traceback": [
            "\u001b[0;31m---------------------------------------------------------------------------\u001b[0m",
            "\u001b[0;31mNameError\u001b[0m                                 Traceback (most recent call last)",
            "\u001b[0;32m<ipython-input-27-ac744c7db092>\u001b[0m in \u001b[0;36m<cell line: 2>\u001b[0;34m()\u001b[0m\n\u001b[1;32m      1\u001b[0m \u001b[0;31m# Fit the VECM model\u001b[0m\u001b[0;34m\u001b[0m\u001b[0;34m\u001b[0m\u001b[0m\n\u001b[0;32m----> 2\u001b[0;31m \u001b[0mmodel_vecm\u001b[0m \u001b[0;34m=\u001b[0m \u001b[0mVECM\u001b[0m\u001b[0;34m(\u001b[0m\u001b[0mdf\u001b[0m\u001b[0;34m,\u001b[0m \u001b[0mk_ar_diff\u001b[0m\u001b[0;34m=\u001b[0m\u001b[0morder\u001b[0m\u001b[0;34m.\u001b[0m\u001b[0maic\u001b[0m\u001b[0;34m)\u001b[0m  \u001b[0;31m# Use the same order selected for VAR\u001b[0m\u001b[0;34m\u001b[0m\u001b[0;34m\u001b[0m\u001b[0m\n\u001b[0m\u001b[1;32m      3\u001b[0m \u001b[0mresults_vecm\u001b[0m \u001b[0;34m=\u001b[0m \u001b[0mmodel_vecm\u001b[0m\u001b[0;34m.\u001b[0m\u001b[0mfit\u001b[0m\u001b[0;34m(\u001b[0m\u001b[0;34m)\u001b[0m\u001b[0;34m\u001b[0m\u001b[0;34m\u001b[0m\u001b[0m\n",
            "\u001b[0;31mNameError\u001b[0m: name 'order' is not defined"
          ]
        }
      ]
    },
    {
      "cell_type": "code",
      "source": [
        "# Print the summary of the VECM model\n",
        "print(results_vecm.summary())"
      ],
      "metadata": {
        "id": "ObKuVOoGCvoJ"
      },
      "execution_count": null,
      "outputs": []
    },
    {
      "cell_type": "code",
      "source": [],
      "metadata": {
        "id": "RvxL_FO6Cvrx"
      },
      "execution_count": null,
      "outputs": []
    },
    {
      "cell_type": "code",
      "source": [],
      "metadata": {
        "id": "LKYNKaShCvyK"
      },
      "execution_count": null,
      "outputs": []
    },
    {
      "cell_type": "markdown",
      "source": [
        "#Train-Test Split for timeseries data by hand to ensure it will be chronologicaly accurate"
      ],
      "metadata": {
        "id": "7-ZN2zMqbZrW"
      }
    },
    {
      "cell_type": "code",
      "source": [
        "train = prices.loc[df.index < '2023-06-01']\n",
        "test = prices.loc[df.index >= '2023-06-01']\n",
        "\n",
        "fig, ax = plt.subplots(figsize=(15, 5))\n",
        "train.plot(ax=ax, label='Training Set', title='Data Train/Test Split')\n",
        "test.plot(ax=ax, label='Test Set')\n",
        "ax.axvline('2023-06-01', color='black', ls='--')\n",
        "ax.legend(['Training Set', 'Test Set'])\n",
        "plt.show()"
      ],
      "metadata": {
        "colab": {
          "base_uri": "https://localhost:8080/",
          "height": 235
        },
        "id": "jcS4FAMaXuE4",
        "outputId": "64e07c30-9128-4da7-cf2c-624b91569a49"
      },
      "execution_count": null,
      "outputs": [
        {
          "output_type": "error",
          "ename": "NameError",
          "evalue": "ignored",
          "traceback": [
            "\u001b[0;31m---------------------------------------------------------------------------\u001b[0m",
            "\u001b[0;31mNameError\u001b[0m                                 Traceback (most recent call last)",
            "\u001b[0;32m<ipython-input-10-a0b7a9b54717>\u001b[0m in \u001b[0;36m<cell line: 1>\u001b[0;34m()\u001b[0m\n\u001b[0;32m----> 1\u001b[0;31m \u001b[0mtrain\u001b[0m \u001b[0;34m=\u001b[0m \u001b[0mprices\u001b[0m\u001b[0;34m.\u001b[0m\u001b[0mloc\u001b[0m\u001b[0;34m[\u001b[0m\u001b[0mdf\u001b[0m\u001b[0;34m.\u001b[0m\u001b[0mindex\u001b[0m \u001b[0;34m<\u001b[0m \u001b[0;34m'2023-06-01'\u001b[0m\u001b[0;34m]\u001b[0m\u001b[0;34m\u001b[0m\u001b[0;34m\u001b[0m\u001b[0m\n\u001b[0m\u001b[1;32m      2\u001b[0m \u001b[0mtest\u001b[0m \u001b[0;34m=\u001b[0m \u001b[0mprices\u001b[0m\u001b[0;34m.\u001b[0m\u001b[0mloc\u001b[0m\u001b[0;34m[\u001b[0m\u001b[0mdf\u001b[0m\u001b[0;34m.\u001b[0m\u001b[0mindex\u001b[0m \u001b[0;34m>=\u001b[0m \u001b[0;34m'2023-06-01'\u001b[0m\u001b[0;34m]\u001b[0m\u001b[0;34m\u001b[0m\u001b[0;34m\u001b[0m\u001b[0m\n\u001b[1;32m      3\u001b[0m \u001b[0;34m\u001b[0m\u001b[0m\n\u001b[1;32m      4\u001b[0m \u001b[0mfig\u001b[0m\u001b[0;34m,\u001b[0m \u001b[0max\u001b[0m \u001b[0;34m=\u001b[0m \u001b[0mplt\u001b[0m\u001b[0;34m.\u001b[0m\u001b[0msubplots\u001b[0m\u001b[0;34m(\u001b[0m\u001b[0mfigsize\u001b[0m\u001b[0;34m=\u001b[0m\u001b[0;34m(\u001b[0m\u001b[0;36m15\u001b[0m\u001b[0;34m,\u001b[0m \u001b[0;36m5\u001b[0m\u001b[0;34m)\u001b[0m\u001b[0;34m)\u001b[0m\u001b[0;34m\u001b[0m\u001b[0;34m\u001b[0m\u001b[0m\n\u001b[1;32m      5\u001b[0m \u001b[0mtrain\u001b[0m\u001b[0;34m.\u001b[0m\u001b[0mplot\u001b[0m\u001b[0;34m(\u001b[0m\u001b[0max\u001b[0m\u001b[0;34m=\u001b[0m\u001b[0max\u001b[0m\u001b[0;34m,\u001b[0m \u001b[0mlabel\u001b[0m\u001b[0;34m=\u001b[0m\u001b[0;34m'Training Set'\u001b[0m\u001b[0;34m,\u001b[0m \u001b[0mtitle\u001b[0m\u001b[0;34m=\u001b[0m\u001b[0;34m'Data Train/Test Split'\u001b[0m\u001b[0;34m)\u001b[0m\u001b[0;34m\u001b[0m\u001b[0;34m\u001b[0m\u001b[0m\n",
            "\u001b[0;31mNameError\u001b[0m: name 'prices' is not defined"
          ]
        }
      ]
    },
    {
      "cell_type": "markdown",
      "source": [
        "#Create windows and horizon"
      ],
      "metadata": {
        "id": "-LAqGcMJY0AQ"
      }
    },
    {
      "cell_type": "markdown",
      "source": [
        "##N-BEATS Model"
      ],
      "metadata": {
        "id": "oDUWIrJQYwbT"
      }
    },
    {
      "cell_type": "code",
      "source": [
        "# Create NBeatsBlock custom layer\n",
        "class NBeatsBlock(tf.keras.layers.Layer):\n",
        "  def __init__(self, # the constructor takes all the hyperparameters for the layer\n",
        "               input_size: int,\n",
        "               theta_size: int,\n",
        "               horizon: int,\n",
        "               n_neurons: int,\n",
        "               n_layers: int,\n",
        "               **kwargs): # the **kwargs argument takes care of all of the arguments for the parent class (input_shape, trainable, name)\n",
        "    super().__init__(**kwargs)\n",
        "    self.input_size = input_size\n",
        "    self.theta_size = theta_size\n",
        "    self.horizon = horizon\n",
        "    self.n_neurons = n_neurons\n",
        "    self.n_layers = n_layers\n",
        "\n",
        "    # Block contains stack of 4 fully connected layers each has ReLU activation\n",
        "    self.hidden = [tf.keras.layers.Dense(n_neurons, activation=\"relu\") for _ in range(n_layers)]\n",
        "    # Output of block is a theta layer with linear activation\n",
        "    self.theta_layer = tf.keras.layers.Dense(theta_size, activation=\"linear\", name=\"theta\")\n",
        "\n",
        "  def call(self, inputs): # the call method is what runs when the layer is called\n",
        "    x = inputs\n",
        "    for layer in self.hidden: # pass inputs through each hidden layer\n",
        "      x = layer(x)\n",
        "    theta = self.theta_layer(x)\n",
        "    # Output the backcast and forecast from theta\n",
        "    backcast, forecast = theta[:, :self.input_size], theta[:, -self.horizon:]\n",
        "    return backcast, forecast"
      ],
      "metadata": {
        "id": "MbkpNTz3X4cV"
      },
      "execution_count": null,
      "outputs": []
    },
    {
      "cell_type": "code",
      "source": [
        "# Set up dummy NBeatsBlock layer to represent inputs and outputs\n",
        "dummy_nbeats_block_layer = NBeatsBlock(input_size=WINDOW_SIZE,\n",
        "                                       theta_size=WINDOW_SIZE+HORIZON, # backcast + forecast\n",
        "                                       horizon=HORIZON,\n",
        "                                       n_neurons=128,\n",
        "                                       n_layers=4)"
      ],
      "metadata": {
        "id": "VSA6xhuLY7tY"
      },
      "execution_count": null,
      "outputs": []
    },
    {
      "cell_type": "code",
      "source": [
        "# Create dummy inputs (have to be same size as input_size)\n",
        "dummy_inputs = tf.expand_dims(tf.range(WINDOW_SIZE) + 1, axis=0) # input shape to the model has to reflect Dense layer input requirements (ndim=2)\n",
        "dummy_inputs"
      ],
      "metadata": {
        "id": "D4SDmJQTY70k"
      },
      "execution_count": null,
      "outputs": []
    },
    {
      "cell_type": "code",
      "source": [],
      "metadata": {
        "id": "5cl1dAdsY73k"
      },
      "execution_count": null,
      "outputs": []
    },
    {
      "cell_type": "code",
      "source": [],
      "metadata": {
        "id": "4mTwJKj4Y76N"
      },
      "execution_count": null,
      "outputs": []
    }
  ]
}